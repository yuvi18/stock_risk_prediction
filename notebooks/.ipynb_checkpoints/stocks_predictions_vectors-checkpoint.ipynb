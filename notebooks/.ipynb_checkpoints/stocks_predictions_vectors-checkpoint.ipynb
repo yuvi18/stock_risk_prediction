{
 "cells": [
  {
   "cell_type": "code",
   "execution_count": 1,
   "metadata": {},
   "outputs": [],
   "source": [
    "import numpy\n",
    "from pandas import read_csv\n",
    "import pandas as pd\n",
    "from numpy import arange\n",
    "import operator\n",
    "import pandas as pd\n",
    "import numpy as np\n",
    "import operator\n",
    "import sys\n",
    "from gensim.models import Word2Vec\n",
    "from gensim.test.utils import common_texts, get_tmpfile\n",
    "from sklearn.decomposition import PCA\n",
    "from sklearn.datasets import make_classification\n",
    "from sklearn.metrics import accuracy_score, confusion_matrix\n",
    "from sklearn.ensemble import RandomForestClassifier\n",
    "from sklearn import svm, tree\n",
    "from sklearn.naive_bayes import GaussianNB\n",
    "from sklearn.model_selection import train_test_split\n",
    "from matplotlib import pyplot\n",
    "import matplotlib.patches as mpatches\n",
    "import seaborn as sns\n",
    "from gensim.models.keyedvectors import KeyedVectors\n",
    "from pandas.plotting import scatter_matrix\n",
    "from pandas import set_option\n",
    "from sklearn.preprocessing import StandardScaler\n",
    "from sklearn import preprocessing\n",
    "from sklearn.model_selection import train_test_split\n",
    "from sklearn.model_selection import KFold\n",
    "import plotly\n",
    "import plotly.express as px\n",
    "from pandas import set_option\n",
    "from numpy import set_printoptions\n",
    "import matplotlib.pyplot as plt\n",
    "from sklearn.model_selection import KFold\n",
    "from sklearn.model_selection import cross_val_score\n",
    "from sklearn.model_selection import GridSearchCV\n",
    "from sklearn.linear_model import LinearRegression\n",
    "from sklearn.linear_model import Lasso\n",
    "from sklearn.linear_model import ElasticNet\n",
    "from sklearn.tree import DecisionTreeRegressor\n",
    "from sklearn.neighbors import KNeighborsRegressor\n",
    "from sklearn.svm import SVR\n",
    "from sklearn.pipeline import Pipeline\n",
    "from sklearn.ensemble import RandomForestRegressor\n",
    "from sklearn.ensemble import GradientBoostingRegressor\n",
    "from sklearn.ensemble import ExtraTreesRegressor\n",
    "from sklearn.ensemble import AdaBoostRegressor\n",
    "from sklearn.metrics import mean_squared_error\n",
    "from sklearn.metrics import mean_squared_log_error\n",
    "from sklearn.metrics import explained_variance_score\n",
    "from sklearn.metrics import r2_score"
   ]
  },
  {
   "cell_type": "code",
   "execution_count": 47,
   "metadata": {},
   "outputs": [
    {
     "name": "stdout",
     "output_type": "stream",
     "text": [
      "Requirement already satisfied: wandb in /Users/tmedeiros/opt/anaconda3/lib/python3.8/site-packages (0.10.12)\n",
      "Requirement already satisfied: subprocess32>=3.5.3 in /Users/tmedeiros/opt/anaconda3/lib/python3.8/site-packages (from wandb) (3.5.4)\n",
      "Requirement already satisfied: docker-pycreds>=0.4.0 in /Users/tmedeiros/opt/anaconda3/lib/python3.8/site-packages (from wandb) (0.4.0)\n",
      "Requirement already satisfied: shortuuid>=0.5.0 in /Users/tmedeiros/opt/anaconda3/lib/python3.8/site-packages (from wandb) (1.0.1)\n",
      "Requirement already satisfied: Click>=7.0 in /Users/tmedeiros/opt/anaconda3/lib/python3.8/site-packages (from wandb) (7.1.2)\n",
      "Requirement already satisfied: GitPython>=1.0.0 in /Users/tmedeiros/opt/anaconda3/lib/python3.8/site-packages (from wandb) (3.1.11)\n",
      "Requirement already satisfied: PyYAML in /Users/tmedeiros/opt/anaconda3/lib/python3.8/site-packages (from wandb) (5.3.1)\n",
      "Requirement already satisfied: sentry-sdk>=0.4.0 in /Users/tmedeiros/opt/anaconda3/lib/python3.8/site-packages (from wandb) (0.19.5)\n",
      "Requirement already satisfied: six>=1.13.0 in /Users/tmedeiros/opt/anaconda3/lib/python3.8/site-packages (from wandb) (1.15.0)\n",
      "Requirement already satisfied: configparser>=3.8.1 in /Users/tmedeiros/opt/anaconda3/lib/python3.8/site-packages (from wandb) (5.0.1)\n",
      "Requirement already satisfied: promise<3,>=2.0 in /Users/tmedeiros/opt/anaconda3/lib/python3.8/site-packages (from wandb) (2.3)\n",
      "Requirement already satisfied: python-dateutil>=2.6.1 in /Users/tmedeiros/opt/anaconda3/lib/python3.8/site-packages (from wandb) (2.8.1)\n",
      "Requirement already satisfied: psutil>=5.0.0 in /Users/tmedeiros/opt/anaconda3/lib/python3.8/site-packages (from wandb) (5.7.0)\n",
      "Requirement already satisfied: requests<3,>=2.0.0 in /Users/tmedeiros/opt/anaconda3/lib/python3.8/site-packages (from wandb) (2.24.0)\n",
      "Requirement already satisfied: protobuf>=3.12.0 in /Users/tmedeiros/opt/anaconda3/lib/python3.8/site-packages (from wandb) (3.13.0)\n",
      "Requirement already satisfied: watchdog>=0.8.3 in /Users/tmedeiros/opt/anaconda3/lib/python3.8/site-packages (from wandb) (0.10.3)\n",
      "Requirement already satisfied: gitdb<5,>=4.0.1 in /Users/tmedeiros/opt/anaconda3/lib/python3.8/site-packages (from GitPython>=1.0.0->wandb) (4.0.5)\n",
      "Requirement already satisfied: certifi in /Users/tmedeiros/opt/anaconda3/lib/python3.8/site-packages (from sentry-sdk>=0.4.0->wandb) (2020.6.20)\n",
      "Requirement already satisfied: urllib3>=1.10.0 in /Users/tmedeiros/opt/anaconda3/lib/python3.8/site-packages (from sentry-sdk>=0.4.0->wandb) (1.25.9)\n",
      "Requirement already satisfied: idna<3,>=2.5 in /Users/tmedeiros/opt/anaconda3/lib/python3.8/site-packages (from requests<3,>=2.0.0->wandb) (2.10)\n",
      "Requirement already satisfied: chardet<4,>=3.0.2 in /Users/tmedeiros/opt/anaconda3/lib/python3.8/site-packages (from requests<3,>=2.0.0->wandb) (3.0.4)\n",
      "Requirement already satisfied: setuptools in /Users/tmedeiros/opt/anaconda3/lib/python3.8/site-packages (from protobuf>=3.12.0->wandb) (50.3.0)\n",
      "Requirement already satisfied: pathtools>=0.1.1 in /Users/tmedeiros/opt/anaconda3/lib/python3.8/site-packages (from watchdog>=0.8.3->wandb) (0.1.2)\n",
      "Requirement already satisfied: smmap<4,>=3.0.1 in /Users/tmedeiros/opt/anaconda3/lib/python3.8/site-packages (from gitdb<5,>=4.0.1->GitPython>=1.0.0->wandb) (3.0.4)\n",
      "\u001b[33mWARNING: You are using pip version 20.2.3; however, version 20.3.3 is available.\n",
      "You should consider upgrading via the '/Users/tmedeiros/opt/anaconda3/bin/python -m pip install --upgrade pip' command.\u001b[0m\n"
     ]
    },
    {
     "name": "stderr",
     "output_type": "stream",
     "text": [
      "\u001b[34m\u001b[1mwandb\u001b[0m: Currently logged in as: \u001b[33mtmedeiros\u001b[0m (use `wandb login --relogin` to force relogin)\n",
      "\u001b[34m\u001b[1mwandb\u001b[0m: wandb version 0.10.13 is available!  To upgrade, please run:\n",
      "\u001b[34m\u001b[1mwandb\u001b[0m:  $ pip install wandb --upgrade\n"
     ]
    },
    {
     "data": {
      "text/html": [
       "\n",
       "                Tracking run with wandb version 0.10.12<br/>\n",
       "                Syncing run <strong style=\"color:#cdcd00\">exalted-valley-11</strong> to <a href=\"https://wandb.ai\" target=\"_blank\">Weights & Biases</a> <a href=\"https://docs.wandb.com/integrations/jupyter.html\" target=\"_blank\">(Documentation)</a>.<br/>\n",
       "                Project page: <a href=\"https://wandb.ai/tmedeiros/visualize-sklearn\" target=\"_blank\">https://wandb.ai/tmedeiros/visualize-sklearn</a><br/>\n",
       "                Run page: <a href=\"https://wandb.ai/tmedeiros/visualize-sklearn/runs/16unogsq\" target=\"_blank\">https://wandb.ai/tmedeiros/visualize-sklearn/runs/16unogsq</a><br/>\n",
       "                Run data is saved locally in <code>/Users/tmedeiros/Documents/Documents/Medeiros/UNT/research/stock_risk_prediction/notebooks/wandb/run-20210114_103717-16unogsq</code><br/><br/>\n",
       "            "
      ],
      "text/plain": [
       "<IPython.core.display.HTML object>"
      ]
     },
     "metadata": {},
     "output_type": "display_data"
    },
    {
     "data": {
      "text/html": [
       "<h1>Run(16unogsq)</h1><p></p><iframe src=\"https://wandb.ai/tmedeiros/visualize-sklearn/runs/16unogsq\" style=\"border:none;width:100%;height:400px\"></iframe>"
      ],
      "text/plain": [
       "<wandb.sdk.wandb_run.Run at 0x7fead1a64eb0>"
      ]
     },
     "execution_count": 47,
     "metadata": {},
     "output_type": "execute_result"
    }
   ],
   "source": [
    "!pip install wandb\n",
    "import wandb\n",
    "wandb.init(project=\"visualize-sklearn\")"
   ]
  },
  {
   "cell_type": "code",
   "execution_count": 2,
   "metadata": {},
   "outputs": [
    {
     "data": {
      "text/html": [
       "<div>\n",
       "<style scoped>\n",
       "    .dataframe tbody tr th:only-of-type {\n",
       "        vertical-align: middle;\n",
       "    }\n",
       "\n",
       "    .dataframe tbody tr th {\n",
       "        vertical-align: top;\n",
       "    }\n",
       "\n",
       "    .dataframe thead th {\n",
       "        text-align: right;\n",
       "    }\n",
       "</style>\n",
       "<table border=\"1\" class=\"dataframe\">\n",
       "  <thead>\n",
       "    <tr style=\"text-align: right;\">\n",
       "      <th></th>\n",
       "      <th>Symbol</th>\n",
       "      <th>open</th>\n",
       "      <th>high</th>\n",
       "      <th>low</th>\n",
       "      <th>close</th>\n",
       "      <th>volume</th>\n",
       "      <th>change</th>\n",
       "    </tr>\n",
       "  </thead>\n",
       "  <tbody>\n",
       "    <tr>\n",
       "      <th>0</th>\n",
       "      <td>A</td>\n",
       "      <td>49.187863</td>\n",
       "      <td>49.600059</td>\n",
       "      <td>48.782026</td>\n",
       "      <td>49.202025</td>\n",
       "      <td>2.338039e+06</td>\n",
       "      <td>0.000288</td>\n",
       "    </tr>\n",
       "    <tr>\n",
       "      <th>1</th>\n",
       "      <td>AAL</td>\n",
       "      <td>38.390495</td>\n",
       "      <td>38.955554</td>\n",
       "      <td>37.825605</td>\n",
       "      <td>38.393252</td>\n",
       "      <td>9.390321e+06</td>\n",
       "      <td>0.000072</td>\n",
       "    </tr>\n",
       "    <tr>\n",
       "      <th>2</th>\n",
       "      <td>AAP</td>\n",
       "      <td>132.439631</td>\n",
       "      <td>133.818297</td>\n",
       "      <td>131.036025</td>\n",
       "      <td>132.433463</td>\n",
       "      <td>1.078043e+06</td>\n",
       "      <td>-0.000047</td>\n",
       "    </tr>\n",
       "    <tr>\n",
       "      <th>3</th>\n",
       "      <td>AAPL</td>\n",
       "      <td>109.055429</td>\n",
       "      <td>109.951118</td>\n",
       "      <td>108.141589</td>\n",
       "      <td>109.066698</td>\n",
       "      <td>5.404790e+07</td>\n",
       "      <td>0.000103</td>\n",
       "    </tr>\n",
       "    <tr>\n",
       "      <th>4</th>\n",
       "      <td>ABBV</td>\n",
       "      <td>60.802801</td>\n",
       "      <td>61.474133</td>\n",
       "      <td>60.177275</td>\n",
       "      <td>60.864440</td>\n",
       "      <td>7.870683e+06</td>\n",
       "      <td>0.001014</td>\n",
       "    </tr>\n",
       "    <tr>\n",
       "      <th>...</th>\n",
       "      <td>...</td>\n",
       "      <td>...</td>\n",
       "      <td>...</td>\n",
       "      <td>...</td>\n",
       "      <td>...</td>\n",
       "      <td>...</td>\n",
       "      <td>...</td>\n",
       "    </tr>\n",
       "    <tr>\n",
       "      <th>500</th>\n",
       "      <td>XYL</td>\n",
       "      <td>41.415473</td>\n",
       "      <td>41.763885</td>\n",
       "      <td>41.076026</td>\n",
       "      <td>41.434095</td>\n",
       "      <td>1.183141e+06</td>\n",
       "      <td>0.000450</td>\n",
       "    </tr>\n",
       "    <tr>\n",
       "      <th>501</th>\n",
       "      <td>YUM</td>\n",
       "      <td>75.422099</td>\n",
       "      <td>76.027123</td>\n",
       "      <td>74.844914</td>\n",
       "      <td>75.451009</td>\n",
       "      <td>3.209032e+06</td>\n",
       "      <td>0.000383</td>\n",
       "    </tr>\n",
       "    <tr>\n",
       "      <th>502</th>\n",
       "      <td>ZBH</td>\n",
       "      <td>105.542014</td>\n",
       "      <td>106.419854</td>\n",
       "      <td>104.698038</td>\n",
       "      <td>105.606291</td>\n",
       "      <td>1.297144e+06</td>\n",
       "      <td>0.000609</td>\n",
       "    </tr>\n",
       "    <tr>\n",
       "      <th>503</th>\n",
       "      <td>ZION</td>\n",
       "      <td>32.161477</td>\n",
       "      <td>32.509290</td>\n",
       "      <td>31.802241</td>\n",
       "      <td>32.171790</td>\n",
       "      <td>2.621178e+06</td>\n",
       "      <td>0.000321</td>\n",
       "    </tr>\n",
       "    <tr>\n",
       "      <th>504</th>\n",
       "      <td>ZTS</td>\n",
       "      <td>45.091389</td>\n",
       "      <td>45.488826</td>\n",
       "      <td>44.665588</td>\n",
       "      <td>45.098648</td>\n",
       "      <td>3.681878e+06</td>\n",
       "      <td>0.000161</td>\n",
       "    </tr>\n",
       "  </tbody>\n",
       "</table>\n",
       "<p>505 rows × 7 columns</p>\n",
       "</div>"
      ],
      "text/plain": [
       "    Symbol        open        high         low       close        volume  \\\n",
       "0        A   49.187863   49.600059   48.782026   49.202025  2.338039e+06   \n",
       "1      AAL   38.390495   38.955554   37.825605   38.393252  9.390321e+06   \n",
       "2      AAP  132.439631  133.818297  131.036025  132.433463  1.078043e+06   \n",
       "3     AAPL  109.055429  109.951118  108.141589  109.066698  5.404790e+07   \n",
       "4     ABBV   60.802801   61.474133   60.177275   60.864440  7.870683e+06   \n",
       "..     ...         ...         ...         ...         ...           ...   \n",
       "500    XYL   41.415473   41.763885   41.076026   41.434095  1.183141e+06   \n",
       "501    YUM   75.422099   76.027123   74.844914   75.451009  3.209032e+06   \n",
       "502    ZBH  105.542014  106.419854  104.698038  105.606291  1.297144e+06   \n",
       "503   ZION   32.161477   32.509290   31.802241   32.171790  2.621178e+06   \n",
       "504    ZTS   45.091389   45.488826   44.665588   45.098648  3.681878e+06   \n",
       "\n",
       "       change  \n",
       "0    0.000288  \n",
       "1    0.000072  \n",
       "2   -0.000047  \n",
       "3    0.000103  \n",
       "4    0.001014  \n",
       "..        ...  \n",
       "500  0.000450  \n",
       "501  0.000383  \n",
       "502  0.000609  \n",
       "503  0.000321  \n",
       "504  0.000161  \n",
       "\n",
       "[505 rows x 7 columns]"
      ]
     },
     "execution_count": 2,
     "metadata": {},
     "output_type": "execute_result"
    }
   ],
   "source": [
    "stocks_df = read_csv('../notebooks/content/stocks_df2.csv', )\n",
    "stocks_df"
   ]
  },
  {
   "cell_type": "code",
   "execution_count": 7,
   "metadata": {},
   "outputs": [
    {
     "data": {
      "text/html": [
       "<div>\n",
       "<style scoped>\n",
       "    .dataframe tbody tr th:only-of-type {\n",
       "        vertical-align: middle;\n",
       "    }\n",
       "\n",
       "    .dataframe tbody tr th {\n",
       "        vertical-align: top;\n",
       "    }\n",
       "\n",
       "    .dataframe thead th {\n",
       "        text-align: right;\n",
       "    }\n",
       "</style>\n",
       "<table border=\"1\" class=\"dataframe\">\n",
       "  <thead>\n",
       "    <tr style=\"text-align: right;\">\n",
       "      <th></th>\n",
       "      <th>open</th>\n",
       "      <th>high</th>\n",
       "      <th>low</th>\n",
       "      <th>close</th>\n",
       "      <th>volume</th>\n",
       "    </tr>\n",
       "  </thead>\n",
       "  <tbody>\n",
       "    <tr>\n",
       "      <th>0</th>\n",
       "      <td>49.187863</td>\n",
       "      <td>49.600059</td>\n",
       "      <td>48.782026</td>\n",
       "      <td>49.202025</td>\n",
       "      <td>2.338039e+06</td>\n",
       "    </tr>\n",
       "    <tr>\n",
       "      <th>1</th>\n",
       "      <td>38.390495</td>\n",
       "      <td>38.955554</td>\n",
       "      <td>37.825605</td>\n",
       "      <td>38.393252</td>\n",
       "      <td>9.390321e+06</td>\n",
       "    </tr>\n",
       "    <tr>\n",
       "      <th>2</th>\n",
       "      <td>132.439631</td>\n",
       "      <td>133.818297</td>\n",
       "      <td>131.036025</td>\n",
       "      <td>132.433463</td>\n",
       "      <td>1.078043e+06</td>\n",
       "    </tr>\n",
       "    <tr>\n",
       "      <th>3</th>\n",
       "      <td>109.055429</td>\n",
       "      <td>109.951118</td>\n",
       "      <td>108.141589</td>\n",
       "      <td>109.066698</td>\n",
       "      <td>5.404790e+07</td>\n",
       "    </tr>\n",
       "    <tr>\n",
       "      <th>4</th>\n",
       "      <td>60.802801</td>\n",
       "      <td>61.474133</td>\n",
       "      <td>60.177275</td>\n",
       "      <td>60.864440</td>\n",
       "      <td>7.870683e+06</td>\n",
       "    </tr>\n",
       "    <tr>\n",
       "      <th>...</th>\n",
       "      <td>...</td>\n",
       "      <td>...</td>\n",
       "      <td>...</td>\n",
       "      <td>...</td>\n",
       "      <td>...</td>\n",
       "    </tr>\n",
       "    <tr>\n",
       "      <th>500</th>\n",
       "      <td>41.415473</td>\n",
       "      <td>41.763885</td>\n",
       "      <td>41.076026</td>\n",
       "      <td>41.434095</td>\n",
       "      <td>1.183141e+06</td>\n",
       "    </tr>\n",
       "    <tr>\n",
       "      <th>501</th>\n",
       "      <td>75.422099</td>\n",
       "      <td>76.027123</td>\n",
       "      <td>74.844914</td>\n",
       "      <td>75.451009</td>\n",
       "      <td>3.209032e+06</td>\n",
       "    </tr>\n",
       "    <tr>\n",
       "      <th>502</th>\n",
       "      <td>105.542014</td>\n",
       "      <td>106.419854</td>\n",
       "      <td>104.698038</td>\n",
       "      <td>105.606291</td>\n",
       "      <td>1.297144e+06</td>\n",
       "    </tr>\n",
       "    <tr>\n",
       "      <th>503</th>\n",
       "      <td>32.161477</td>\n",
       "      <td>32.509290</td>\n",
       "      <td>31.802241</td>\n",
       "      <td>32.171790</td>\n",
       "      <td>2.621178e+06</td>\n",
       "    </tr>\n",
       "    <tr>\n",
       "      <th>504</th>\n",
       "      <td>45.091389</td>\n",
       "      <td>45.488826</td>\n",
       "      <td>44.665588</td>\n",
       "      <td>45.098648</td>\n",
       "      <td>3.681878e+06</td>\n",
       "    </tr>\n",
       "  </tbody>\n",
       "</table>\n",
       "<p>505 rows × 5 columns</p>\n",
       "</div>"
      ],
      "text/plain": [
       "           open        high         low       close        volume\n",
       "0     49.187863   49.600059   48.782026   49.202025  2.338039e+06\n",
       "1     38.390495   38.955554   37.825605   38.393252  9.390321e+06\n",
       "2    132.439631  133.818297  131.036025  132.433463  1.078043e+06\n",
       "3    109.055429  109.951118  108.141589  109.066698  5.404790e+07\n",
       "4     60.802801   61.474133   60.177275   60.864440  7.870683e+06\n",
       "..          ...         ...         ...         ...           ...\n",
       "500   41.415473   41.763885   41.076026   41.434095  1.183141e+06\n",
       "501   75.422099   76.027123   74.844914   75.451009  3.209032e+06\n",
       "502  105.542014  106.419854  104.698038  105.606291  1.297144e+06\n",
       "503   32.161477   32.509290   31.802241   32.171790  2.621178e+06\n",
       "504   45.091389   45.488826   44.665588   45.098648  3.681878e+06\n",
       "\n",
       "[505 rows x 5 columns]"
      ]
     },
     "execution_count": 7,
     "metadata": {},
     "output_type": "execute_result"
    }
   ],
   "source": [
    "stocks_df = stocks_df[['open', 'high', 'low', 'close', 'volume', 'change']]\n",
    "target = stocks_df.pop(\"change\")\n",
    "stocks_df"
   ]
  },
  {
   "cell_type": "code",
   "execution_count": 8,
   "metadata": {},
   "outputs": [
    {
     "data": {
      "text/plain": [
       "0      0.000288\n",
       "1      0.000072\n",
       "2     -0.000047\n",
       "3      0.000103\n",
       "4      0.001014\n",
       "         ...   \n",
       "500    0.000450\n",
       "501    0.000383\n",
       "502    0.000609\n",
       "503    0.000321\n",
       "504    0.000161\n",
       "Name: change, Length: 505, dtype: float64"
      ]
     },
     "execution_count": 8,
     "metadata": {},
     "output_type": "execute_result"
    }
   ],
   "source": [
    "target"
   ]
  },
  {
   "cell_type": "code",
   "execution_count": 9,
   "metadata": {},
   "outputs": [
    {
     "name": "stdout",
     "output_type": "stream",
     "text": [
      "            open       high        low      close      volume\n",
      "count   505.0000   505.0000   505.0000   505.0000  5.0500e+02\n",
      "mean     82.6069    83.3591    81.8421    82.6267  4.3086e+06\n",
      "std      91.9848    92.7920    91.1383    91.9939  7.0257e+06\n",
      "min       5.6043     5.7172     5.4866     5.6019  1.7037e+05\n",
      "25%      42.3795    42.7627    42.0194    42.4021  1.3204e+06\n",
      "50%      64.1438    64.8747    63.5783    64.1821  2.3212e+06\n",
      "75%      94.8540    95.6698    94.0348    94.9062  4.3525e+06\n",
      "max    1312.6785  1324.1832  1300.6522  1312.8735  9.3634e+07\n"
     ]
    }
   ],
   "source": [
    "set_option('precision', 4)\n",
    "print(stocks_df.describe())"
   ]
  },
  {
   "cell_type": "code",
   "execution_count": 10,
   "metadata": {},
   "outputs": [
    {
     "name": "stdout",
     "output_type": "stream",
     "text": [
      "          open    high     low   close  volume\n",
      "open    1.0000  1.0000  1.0000  1.0000 -0.1731\n",
      "high    1.0000  1.0000  1.0000  1.0000 -0.1731\n",
      "low     1.0000  1.0000  1.0000  1.0000 -0.1731\n",
      "close   1.0000  1.0000  1.0000  1.0000 -0.1731\n",
      "volume -0.1731 -0.1731 -0.1731 -0.1731  1.0000\n"
     ]
    }
   ],
   "source": [
    "# correlation\n",
    "set_option('precision', 4)\n",
    "print(stocks_df.corr(method='pearson'))"
   ]
  },
  {
   "cell_type": "code",
   "execution_count": 11,
   "metadata": {},
   "outputs": [
    {
     "data": {
      "image/png": "[encoded data removed]",
      "text/plain": [
       "<Figure size 1440x720 with 1 Axes>"
      ]
     },
     "metadata": {
      "needs_background": "light"
     },
     "output_type": "display_data"
    }
   ],
   "source": [
    "plt.rc('figure', figsize=(20,10))\n",
    "#target.hist(xlabelsize=1, ylabelsize=1)\n",
    "target2 = np.expm1((target + abs(target.min())) / 200)\n",
    "target2 = np.log1p(target2)\n",
    "target.hist(xlabelsize=1, ylabelsize=1)\n",
    "pyplot.title('Chane in Price Distribution')\n",
    "pyplot.xlabel('Change in Price')\n",
    "pyplot.ylabel('Number of Companies')\n",
    "pyplot.show()"
   ]
  },
  {
   "cell_type": "code",
   "execution_count": 12,
   "metadata": {
    "scrolled": false
   },
   "outputs": [
    {
     "data": {
      "image/png": "[encoded data removed]",
      "text/plain": [
       "<Figure size 1440x720 with 6 Axes>"
      ]
     },
     "metadata": {
      "needs_background": "light"
     },
     "output_type": "display_data"
    }
   ],
   "source": [
    "stocks_df.hist(sharex=False, sharey=False, xlabelsize=1, ylabelsize=1)\n",
    "pyplot.show()"
   ]
  },
  {
   "cell_type": "code",
   "execution_count": 13,
   "metadata": {},
   "outputs": [
    {
     "data": {
      "image/png": "[encoded data removed]",
      "text/plain": [
       "<Figure size 1440x720 with 6 Axes>"
      ]
     },
     "metadata": {
      "needs_background": "light"
     },
     "output_type": "display_data"
    }
   ],
   "source": [
    "x = stocks_df.values #returns a numpy array\n",
    "min_max_scaler = preprocessing.MinMaxScaler()\n",
    "x_scaled = min_max_scaler.fit_transform(x)\n",
    "stocks_df2 = pd.DataFrame(x_scaled)\n",
    "stocks_df2.hist(sharex=False, sharey=False, xlabelsize=1, ylabelsize=1)\n",
    "pyplot.show()"
   ]
  },
  {
   "cell_type": "code",
   "execution_count": 14,
   "metadata": {
    "scrolled": true
   },
   "outputs": [
    {
     "data": {
      "image/png": "[encoded data removed]",
      "text/plain": [
       "<Figure size 1440x720 with 16 Axes>"
      ]
     },
     "metadata": {
      "needs_background": "light"
     },
     "output_type": "display_data"
    }
   ],
   "source": [
    "stocks_df.plot(kind='box', subplots=True, layout=(4,4), sharex=False, sharey=False,\n",
    "fontsize=8)\n",
    "pyplot.show()"
   ]
  },
  {
   "cell_type": "code",
   "execution_count": 15,
   "metadata": {},
   "outputs": [
    {
     "data": {
      "image/png": "[encoded data removed]",
      "text/plain": [
       "<Figure size 1440x720 with 25 Axes>"
      ]
     },
     "metadata": {
      "needs_background": "light"
     },
     "output_type": "display_data"
    }
   ],
   "source": [
    "scatter_matrix(stocks_df)\n",
    "pyplot.show()"
   ]
  },
  {
   "cell_type": "code",
   "execution_count": 18,
   "metadata": {},
   "outputs": [
    {
     "data": {
      "image/png": "[encoded data removed]",
      "text/plain": [
       "<Figure size 1440x720 with 2 Axes>"
      ]
     },
     "metadata": {
      "needs_background": "light"
     },
     "output_type": "display_data"
    }
   ],
   "source": [
    "# correlation matrix\n",
    "fig = pyplot.figure()\n",
    "ax = fig.add_subplot(111)\n",
    "cax = ax.matshow(stocks_df.corr(), vmin=-1, vmax=1, interpolation='none')\n",
    "fig.colorbar(cax)\n",
    "ticks = np.arange(0,22,1)\n",
    "ax.set_xticks(ticks)\n",
    "ax.set_yticks(ticks)\n",
    "ax.set_xticklabels(stocks_df.columns)\n",
    "ax.set_yticklabels(stocks_df.columns)\n",
    "pyplot.show()"
   ]
  },
  {
   "cell_type": "code",
   "execution_count": 20,
   "metadata": {},
   "outputs": [],
   "source": [
    "# Split-out validation dataset\n",
    "array = stocks_df.values\n",
    "X = array[:,0:11]\n",
    "Y = target\n",
    "validation_size = 0.20\n",
    "seed = 7\n",
    "X_train, X_validation, Y_train, Y_validation = train_test_split(X, Y,\n",
    "test_size=validation_size, random_state=seed)"
   ]
  },
  {
   "cell_type": "code",
   "execution_count": 23,
   "metadata": {},
   "outputs": [],
   "source": [
    "num_folds = 10\n",
    "seed = 7\n",
    "#scoring = 'neg_mean_squared_error'\n",
    "#scoring = 'neg_mean_squared_log_error'\n",
    "#scoring = 'explained_variance'\n",
    "scoring = 'r2'"
   ]
  },
  {
   "cell_type": "code",
   "execution_count": 24,
   "metadata": {},
   "outputs": [],
   "source": [
    "# Spot-Check Algorithms\n",
    "models = []\n",
    "models.append(('LR', LinearRegression()))\n",
    "models.append(('LASSO', Lasso()))\n",
    "models.append(('EN', ElasticNet()))\n",
    "models.append(('KNN', KNeighborsRegressor()))\n",
    "models.append(('CART', DecisionTreeRegressor()))\n",
    "models.append(('SVR', SVR()))"
   ]
  },
  {
   "cell_type": "code",
   "execution_count": 28,
   "metadata": {
    "scrolled": true
   },
   "outputs": [
    {
     "name": "stdout",
     "output_type": "stream",
     "text": [
      "LR: 0.440029 (0.255049)\n",
      "LASSO: 0.014358 (0.073731)\n",
      "EN: 0.014350 (0.073823)\n",
      "KNN: -0.183049 (0.278417)\n",
      "CART: -0.770185 (0.442568)\n",
      "SVR: -0.061357 (0.078846)\n"
     ]
    },
    {
     "name": "stderr",
     "output_type": "stream",
     "text": [
      "/Users/tmedeiros/opt/anaconda3/lib/python3.8/site-packages/sklearn/model_selection/_split.py:293: FutureWarning: Setting a random_state has no effect since shuffle is False. This will raise an error in 0.24. You should leave random_state to its default (None), or set shuffle=True.\n",
      "  warnings.warn(\n",
      "/Users/tmedeiros/opt/anaconda3/lib/python3.8/site-packages/sklearn/model_selection/_split.py:293: FutureWarning: Setting a random_state has no effect since shuffle is False. This will raise an error in 0.24. You should leave random_state to its default (None), or set shuffle=True.\n",
      "  warnings.warn(\n",
      "/Users/tmedeiros/opt/anaconda3/lib/python3.8/site-packages/sklearn/model_selection/_split.py:293: FutureWarning: Setting a random_state has no effect since shuffle is False. This will raise an error in 0.24. You should leave random_state to its default (None), or set shuffle=True.\n",
      "  warnings.warn(\n",
      "/Users/tmedeiros/opt/anaconda3/lib/python3.8/site-packages/sklearn/model_selection/_split.py:293: FutureWarning: Setting a random_state has no effect since shuffle is False. This will raise an error in 0.24. You should leave random_state to its default (None), or set shuffle=True.\n",
      "  warnings.warn(\n",
      "/Users/tmedeiros/opt/anaconda3/lib/python3.8/site-packages/sklearn/model_selection/_split.py:293: FutureWarning: Setting a random_state has no effect since shuffle is False. This will raise an error in 0.24. You should leave random_state to its default (None), or set shuffle=True.\n",
      "  warnings.warn(\n",
      "/Users/tmedeiros/opt/anaconda3/lib/python3.8/site-packages/sklearn/model_selection/_split.py:293: FutureWarning: Setting a random_state has no effect since shuffle is False. This will raise an error in 0.24. You should leave random_state to its default (None), or set shuffle=True.\n",
      "  warnings.warn(\n"
     ]
    }
   ],
   "source": [
    "# evaluate each model in turn\n",
    "results = []\n",
    "names = []\n",
    "for name, model in models:\n",
    "    kfold = KFold(n_splits=num_folds, random_state=seed)\n",
    "    cv_results = cross_val_score(model, X_train, Y_train, cv=kfold, scoring=scoring)\n",
    "    results.append(cv_results)\n",
    "    names.append(name)\n",
    "    msg = \"%s: %f (%f)\" % (name, cv_results.mean(), cv_results.std())\n",
    "    print(msg)"
   ]
  },
  {
   "cell_type": "code",
   "execution_count": 27,
   "metadata": {},
   "outputs": [
    {
     "data": {
      "image/png": "[encoded data removed]",
      "text/plain": [
       "<Figure size 1440x720 with 1 Axes>"
      ]
     },
     "metadata": {
      "needs_background": "light"
     },
     "output_type": "display_data"
    }
   ],
   "source": [
    "# Compare Algorithms\n",
    "fig = pyplot.figure()\n",
    "fig.suptitle('Algorithm Comparison')\n",
    "ax = fig.add_subplot(111)\n",
    "pyplot.boxplot(results)\n",
    "ax.set_xticklabels(names)\n",
    "pyplot.show()"
   ]
  },
  {
   "cell_type": "code",
   "execution_count": 29,
   "metadata": {},
   "outputs": [
    {
     "name": "stdout",
     "output_type": "stream",
     "text": [
      "ScaledLR: 0.440029 (0.255049)\n",
      "ScaledLASSO: -0.006752 (0.007315)\n",
      "ScaledEN: -0.006752 (0.007315)\n",
      "ScaledKNN: -0.117030 (0.169158)\n",
      "ScaledCART: -0.728752 (0.453528)\n",
      "ScaledSVR: -0.061357 (0.078846)\n"
     ]
    },
    {
     "name": "stderr",
     "output_type": "stream",
     "text": [
      "/Users/tmedeiros/opt/anaconda3/lib/python3.8/site-packages/sklearn/model_selection/_split.py:293: FutureWarning: Setting a random_state has no effect since shuffle is False. This will raise an error in 0.24. You should leave random_state to its default (None), or set shuffle=True.\n",
      "  warnings.warn(\n",
      "/Users/tmedeiros/opt/anaconda3/lib/python3.8/site-packages/sklearn/model_selection/_split.py:293: FutureWarning: Setting a random_state has no effect since shuffle is False. This will raise an error in 0.24. You should leave random_state to its default (None), or set shuffle=True.\n",
      "  warnings.warn(\n",
      "/Users/tmedeiros/opt/anaconda3/lib/python3.8/site-packages/sklearn/model_selection/_split.py:293: FutureWarning: Setting a random_state has no effect since shuffle is False. This will raise an error in 0.24. You should leave random_state to its default (None), or set shuffle=True.\n",
      "  warnings.warn(\n",
      "/Users/tmedeiros/opt/anaconda3/lib/python3.8/site-packages/sklearn/model_selection/_split.py:293: FutureWarning: Setting a random_state has no effect since shuffle is False. This will raise an error in 0.24. You should leave random_state to its default (None), or set shuffle=True.\n",
      "  warnings.warn(\n",
      "/Users/tmedeiros/opt/anaconda3/lib/python3.8/site-packages/sklearn/model_selection/_split.py:293: FutureWarning: Setting a random_state has no effect since shuffle is False. This will raise an error in 0.24. You should leave random_state to its default (None), or set shuffle=True.\n",
      "  warnings.warn(\n",
      "/Users/tmedeiros/opt/anaconda3/lib/python3.8/site-packages/sklearn/model_selection/_split.py:293: FutureWarning: Setting a random_state has no effect since shuffle is False. This will raise an error in 0.24. You should leave random_state to its default (None), or set shuffle=True.\n",
      "  warnings.warn(\n"
     ]
    }
   ],
   "source": [
    "# Standardize the dataset\n",
    "pipelines = []\n",
    "pipelines.append(('ScaledLR', Pipeline([('Scaler', StandardScaler()),('LR',LinearRegression())])))\n",
    "pipelines.append(('ScaledLASSO', Pipeline([('Scaler', StandardScaler()),('LASSO',Lasso())])))\n",
    "pipelines.append(('ScaledEN', Pipeline([('Scaler', StandardScaler()),('EN',ElasticNet())])))\n",
    "pipelines.append(('ScaledKNN', Pipeline([('Scaler', StandardScaler()),('KNN',KNeighborsRegressor())])))\n",
    "pipelines.append(('ScaledCART', Pipeline([('Scaler', StandardScaler()),('CART',DecisionTreeRegressor())])))\n",
    "pipelines.append(('ScaledSVR', Pipeline([('Scaler', StandardScaler()),('SVR', SVR())])))\n",
    "results = []\n",
    "names = []\n",
    "for name, model in pipelines:\n",
    "    kfold = KFold(n_splits=num_folds, random_state=seed)\n",
    "    cv_results = cross_val_score(model, X_train, Y_train, cv=kfold, scoring=scoring)\n",
    "    results.append(cv_results)\n",
    "    names.append(name)\n",
    "    msg = \"%s: %f (%f)\" % (name, cv_results.mean(), cv_results.std())\n",
    "    print(msg)"
   ]
  },
  {
   "cell_type": "code",
   "execution_count": 30,
   "metadata": {},
   "outputs": [
    {
     "data": {
      "image/png": "[encoded data removed]",
      "text/plain": [
       "<Figure size 1440x720 with 1 Axes>"
      ]
     },
     "metadata": {
      "needs_background": "light"
     },
     "output_type": "display_data"
    }
   ],
   "source": [
    "# Compare Algorithms\n",
    "fig = pyplot.figure()\n",
    "fig.suptitle('Scaled Algorithm Comparison')\n",
    "ax = fig.add_subplot(111)\n",
    "pyplot.boxplot(results)\n",
    "ax.set_xticklabels(names)\n",
    "pyplot.show()"
   ]
  },
  {
   "cell_type": "code",
   "execution_count": 34,
   "metadata": {},
   "outputs": [
    {
     "name": "stderr",
     "output_type": "stream",
     "text": [
      "/Users/tmedeiros/opt/anaconda3/lib/python3.8/site-packages/sklearn/model_selection/_split.py:293: FutureWarning: Setting a random_state has no effect since shuffle is False. This will raise an error in 0.24. You should leave random_state to its default (None), or set shuffle=True.\n",
      "  warnings.warn(\n",
      "/Users/tmedeiros/opt/anaconda3/lib/python3.8/site-packages/sklearn/model_selection/_split.py:293: FutureWarning: Setting a random_state has no effect since shuffle is False. This will raise an error in 0.24. You should leave random_state to its default (None), or set shuffle=True.\n",
      "  warnings.warn(\n"
     ]
    },
    {
     "name": "stdout",
     "output_type": "stream",
     "text": [
      "ScaledLR: 0.440029 (0.255049)\n",
      "ScaledAB: 0.008539 (0.136273)\n"
     ]
    },
    {
     "name": "stderr",
     "output_type": "stream",
     "text": [
      "/Users/tmedeiros/opt/anaconda3/lib/python3.8/site-packages/sklearn/model_selection/_split.py:293: FutureWarning: Setting a random_state has no effect since shuffle is False. This will raise an error in 0.24. You should leave random_state to its default (None), or set shuffle=True.\n",
      "  warnings.warn(\n"
     ]
    },
    {
     "name": "stdout",
     "output_type": "stream",
     "text": [
      "ScaledGBM: -0.106586 (0.179515)\n"
     ]
    },
    {
     "name": "stderr",
     "output_type": "stream",
     "text": [
      "/Users/tmedeiros/opt/anaconda3/lib/python3.8/site-packages/sklearn/model_selection/_split.py:293: FutureWarning: Setting a random_state has no effect since shuffle is False. This will raise an error in 0.24. You should leave random_state to its default (None), or set shuffle=True.\n",
      "  warnings.warn(\n"
     ]
    },
    {
     "name": "stdout",
     "output_type": "stream",
     "text": [
      "ScaledRF: -0.084564 (0.183558)\n"
     ]
    },
    {
     "name": "stderr",
     "output_type": "stream",
     "text": [
      "/Users/tmedeiros/opt/anaconda3/lib/python3.8/site-packages/sklearn/model_selection/_split.py:293: FutureWarning: Setting a random_state has no effect since shuffle is False. This will raise an error in 0.24. You should leave random_state to its default (None), or set shuffle=True.\n",
      "  warnings.warn(\n"
     ]
    },
    {
     "name": "stdout",
     "output_type": "stream",
     "text": [
      "ScaledET: -0.136191 (0.160299)\n",
      "ScaledSVR: -0.061357 (0.078846)\n",
      "ScaledKNN: -0.117030 (0.169158)\n"
     ]
    },
    {
     "name": "stderr",
     "output_type": "stream",
     "text": [
      "/Users/tmedeiros/opt/anaconda3/lib/python3.8/site-packages/sklearn/model_selection/_split.py:293: FutureWarning: Setting a random_state has no effect since shuffle is False. This will raise an error in 0.24. You should leave random_state to its default (None), or set shuffle=True.\n",
      "  warnings.warn(\n",
      "/Users/tmedeiros/opt/anaconda3/lib/python3.8/site-packages/sklearn/model_selection/_split.py:293: FutureWarning: Setting a random_state has no effect since shuffle is False. This will raise an error in 0.24. You should leave random_state to its default (None), or set shuffle=True.\n",
      "  warnings.warn(\n"
     ]
    }
   ],
   "source": [
    "# ensembles\n",
    "ensembles = []\n",
    "ensembles.append(('ScaledLR', Pipeline([('Scaler', StandardScaler()),('LR',LinearRegression())])))\n",
    "ensembles.append(('ScaledAB', Pipeline([('Scaler', StandardScaler()),('AB', AdaBoostRegressor())])))\n",
    "ensembles.append(('ScaledGBM', Pipeline([('Scaler', StandardScaler()),('GBM', GradientBoostingRegressor())])))\n",
    "ensembles.append(('ScaledRF', Pipeline([('Scaler', StandardScaler()),('RF', RandomForestRegressor())])))\n",
    "ensembles.append(('ScaledET', Pipeline([('Scaler', StandardScaler()),('ET', ExtraTreesRegressor())])))\n",
    "ensembles.append(('ScaledSVR', Pipeline([('Scaler', StandardScaler()),('SVR', SVR())])))\n",
    "ensembles.append(('ScaledKNN', Pipeline([('Scaler', StandardScaler()),('KNN', KNeighborsRegressor())])))\n",
    "\n",
    "results = []\n",
    "names = []\n",
    "for name, model in ensembles:\n",
    "    kfold = KFold(n_splits=num_folds, random_state=seed)\n",
    "    cv_results = cross_val_score(model, X_train, Y_train, cv=kfold, scoring=scoring)\n",
    "    results.append(cv_results)\n",
    "    names.append(name)\n",
    "    msg = \"%s: %f (%f)\" % (name, cv_results.mean(), cv_results.std())\n",
    "    print(msg)"
   ]
  },
  {
   "cell_type": "code",
   "execution_count": 35,
   "metadata": {},
   "outputs": [
    {
     "data": {
      "image/png": "[encoded data removed]",
      "text/plain": [
       "<Figure size 1440x720 with 1 Axes>"
      ]
     },
     "metadata": {
      "needs_background": "light"
     },
     "output_type": "display_data"
    }
   ],
   "source": [
    "# Compare Algorithms\n",
    "fig = pyplot.figure()\n",
    "fig.suptitle('Scaled Ensemble Algorithm Comparison')\n",
    "ax = fig.add_subplot(111)\n",
    "pyplot.boxplot(results)\n",
    "ax.set_xticklabels(names)\n",
    "pyplot.show()"
   ]
  },
  {
   "cell_type": "markdown",
   "metadata": {},
   "source": [
    "## Tune scaled LinearRegression"
   ]
  },
  {
   "cell_type": "code",
   "execution_count": 54,
   "metadata": {},
   "outputs": [
    {
     "name": "stderr",
     "output_type": "stream",
     "text": [
      "/Users/tmedeiros/opt/anaconda3/lib/python3.8/site-packages/sklearn/model_selection/_split.py:293: FutureWarning: Setting a random_state has no effect since shuffle is False. This will raise an error in 0.24. You should leave random_state to its default (None), or set shuffle=True.\n",
      "  warnings.warn(\n"
     ]
    }
   ],
   "source": [
    "scaler = StandardScaler().fit(X_train)\n",
    "rescaledX = scaler.transform(X_train)\n",
    "alpha = [0.001, 0.01, 0.1, 1, 10, 100, 1000]\n",
    "param_grid = {'fit_intercept':[True,False], 'normalize':[True,False], 'copy_X':[True, False]}\n",
    "model = LinearRegression()\n",
    "kfold = KFold(n_splits=num_folds, random_state=seed)\n",
    "grid = GridSearchCV(estimator=model, param_grid=param_grid, scoring=scoring, cv=kfold)\n",
    "grid_result = grid.fit(rescaledX, Y_train)"
   ]
  },
  {
   "cell_type": "code",
   "execution_count": 55,
   "metadata": {},
   "outputs": [
    {
     "name": "stdout",
     "output_type": "stream",
     "text": [
      "Best: 0.440029 using {'copy_X': True, 'fit_intercept': True, 'normalize': True}\n",
      "0.440029 (0.255049) with: {'copy_X': True, 'fit_intercept': True, 'normalize': True}\n",
      "0.440029 (0.255049) with: {'copy_X': True, 'fit_intercept': True, 'normalize': False}\n",
      "-0.094502 (0.480614) with: {'copy_X': True, 'fit_intercept': False, 'normalize': True}\n",
      "-0.094502 (0.480614) with: {'copy_X': True, 'fit_intercept': False, 'normalize': False}\n",
      "0.440029 (0.255049) with: {'copy_X': False, 'fit_intercept': True, 'normalize': True}\n",
      "0.440029 (0.255049) with: {'copy_X': False, 'fit_intercept': True, 'normalize': False}\n",
      "-0.094502 (0.480614) with: {'copy_X': False, 'fit_intercept': False, 'normalize': True}\n",
      "-0.094502 (0.480614) with: {'copy_X': False, 'fit_intercept': False, 'normalize': False}\n"
     ]
    }
   ],
   "source": [
    "print(\"Best: %f using %s\" % (grid_result.best_score_, grid_result.best_params_))\n",
    "means = grid_result.cv_results_['mean_test_score']\n",
    "stds = grid_result.cv_results_['std_test_score']\n",
    "params = grid_result.cv_results_['params']\n",
    "for mean, stdev, param in zip(means, stds, params):\n",
    "    print(\"%f (%f) with: %r\" % (mean, stdev, param))"
   ]
  },
  {
   "cell_type": "markdown",
   "metadata": {},
   "source": [
    "# Tune scaled RandomForestRegressor"
   ]
  },
  {
   "cell_type": "code",
   "execution_count": 36,
   "metadata": {},
   "outputs": [
    {
     "name": "stderr",
     "output_type": "stream",
     "text": [
      "/Users/tmedeiros/opt/anaconda3/lib/python3.8/site-packages/sklearn/model_selection/_split.py:293: FutureWarning: Setting a random_state has no effect since shuffle is False. This will raise an error in 0.24. You should leave random_state to its default (None), or set shuffle=True.\n",
      "  warnings.warn(\n"
     ]
    }
   ],
   "source": [
    "scaler = StandardScaler().fit(X_train)\n",
    "rescaledX = scaler.transform(X_train)\n",
    "param_grid = dict(n_estimators=numpy.array([50,100,150,200,250,300,350,400]))\n",
    "model = RandomForestRegressor(random_state=seed)\n",
    "kfold = KFold(n_splits=num_folds, random_state=seed)\n",
    "grid = GridSearchCV(estimator=model, param_grid=param_grid, scoring=scoring, cv=kfold)\n",
    "grid_result = grid.fit(rescaledX, Y_train)"
   ]
  },
  {
   "cell_type": "code",
   "execution_count": 37,
   "metadata": {},
   "outputs": [
    {
     "name": "stdout",
     "output_type": "stream",
     "text": [
      "Best: -0.068498 using {'n_estimators': 150}\n",
      "-0.099422 (0.193977) with: {'n_estimators': 50}\n",
      "-0.077178 (0.185501) with: {'n_estimators': 100}\n",
      "-0.068498 (0.179935) with: {'n_estimators': 150}\n",
      "-0.071997 (0.177948) with: {'n_estimators': 200}\n",
      "-0.075493 (0.178931) with: {'n_estimators': 250}\n",
      "-0.073707 (0.174295) with: {'n_estimators': 300}\n",
      "-0.071090 (0.172651) with: {'n_estimators': 350}\n",
      "-0.072229 (0.173556) with: {'n_estimators': 400}\n"
     ]
    }
   ],
   "source": [
    "print(\"Best: %f using %s\" % (grid_result.best_score_, grid_result.best_params_))\n",
    "means = grid_result.cv_results_['mean_test_score']\n",
    "stds = grid_result.cv_results_['std_test_score']\n",
    "params = grid_result.cv_results_['params']\n",
    "for mean, stdev, param in zip(means, stds, params):\n",
    "    print(\"%f (%f) with: %r\" % (mean, stdev, param))"
   ]
  },
  {
   "cell_type": "markdown",
   "metadata": {},
   "source": [
    "## Tune scaled KNeighborsRegressor"
   ]
  },
  {
   "cell_type": "code",
   "execution_count": 38,
   "metadata": {},
   "outputs": [
    {
     "name": "stderr",
     "output_type": "stream",
     "text": [
      "/Users/tmedeiros/opt/anaconda3/lib/python3.8/site-packages/sklearn/model_selection/_split.py:293: FutureWarning: Setting a random_state has no effect since shuffle is False. This will raise an error in 0.24. You should leave random_state to its default (None), or set shuffle=True.\n",
      "  warnings.warn(\n"
     ]
    }
   ],
   "source": [
    "# KNN Algorithm tuning\n",
    "scaler = StandardScaler().fit(X_train)\n",
    "rescaledX = scaler.transform(X_train)\n",
    "k_values = numpy.array([1,3,5,7,9,11,13,15,17,19,21])\n",
    "param_grid = dict(n_neighbors=k_values)\n",
    "model = KNeighborsRegressor()\n",
    "#model = ElasticNet()\n",
    "kfold = KFold(n_splits=num_folds, random_state=seed)\n",
    "grid = GridSearchCV(estimator=model, param_grid=param_grid, scoring=scoring, cv=kfold)\n",
    "grid_result = grid.fit(rescaledX, Y_train)"
   ]
  },
  {
   "cell_type": "code",
   "execution_count": 39,
   "metadata": {},
   "outputs": [
    {
     "name": "stdout",
     "output_type": "stream",
     "text": [
      "Best: -0.003585 using {'n_neighbors': 13}\n",
      "-0.900362 (0.376357) with: {'n_neighbors': 1}\n",
      "-0.213863 (0.207322) with: {'n_neighbors': 3}\n",
      "-0.111852 (0.172217) with: {'n_neighbors': 5}\n",
      "-0.092246 (0.168203) with: {'n_neighbors': 7}\n",
      "-0.050874 (0.152674) with: {'n_neighbors': 9}\n",
      "-0.009587 (0.147543) with: {'n_neighbors': 11}\n",
      "-0.003585 (0.137143) with: {'n_neighbors': 13}\n",
      "-0.010652 (0.135703) with: {'n_neighbors': 15}\n",
      "-0.011567 (0.124636) with: {'n_neighbors': 17}\n",
      "-0.014393 (0.121447) with: {'n_neighbors': 19}\n",
      "-0.007780 (0.112154) with: {'n_neighbors': 21}\n"
     ]
    }
   ],
   "source": [
    "print(\"Best: %f using %s\" % (grid_result.best_score_, grid_result.best_params_))\n",
    "means = grid_result.cv_results_['mean_test_score']\n",
    "stds = grid_result.cv_results_['std_test_score']\n",
    "params = grid_result.cv_results_['params']\n",
    "for mean, stdev, param in zip(means, stds, params):\n",
    "    print(\"%f (%f) with: %r\" % (mean, stdev, param))"
   ]
  },
  {
   "cell_type": "markdown",
   "metadata": {},
   "source": [
    "## Tune scaled SVR Algorithm"
   ]
  },
  {
   "cell_type": "code",
   "execution_count": 40,
   "metadata": {},
   "outputs": [
    {
     "name": "stderr",
     "output_type": "stream",
     "text": [
      "/Users/tmedeiros/opt/anaconda3/lib/python3.8/site-packages/sklearn/model_selection/_split.py:293: FutureWarning: Setting a random_state has no effect since shuffle is False. This will raise an error in 0.24. You should leave random_state to its default (None), or set shuffle=True.\n",
      "  warnings.warn(\n"
     ]
    }
   ],
   "source": [
    "scaler = StandardScaler().fit(X_train)\n",
    "rescaledX = scaler.transform(X_train)\n",
    "k_values = numpy.array([1,3,5,7,9,11,13,15,17,19,21])\n",
    "#param_grid = dict(n_neighbors=k_values)\n",
    "Cs = [0.001, 0.01, 0.1, 1, 10]\n",
    "gammas = [0.001, 0.01, 0.1, 1]\n",
    "epsilon = [0, 0.01, 0.1, 0.5, 1, 2, 4]\n",
    "param_grid = {'C': Cs, 'gamma' : gammas, 'epsilon' : epsilon}\n",
    "model = SVR(kernel='rbf')\n",
    "#model = ElasticNet()\n",
    "kfold = KFold(n_splits=num_folds, random_state=seed)\n",
    "grid = GridSearchCV(estimator=model, param_grid=param_grid, scoring=scoring, cv=kfold)\n",
    "grid_result = grid.fit(rescaledX, Y_train)"
   ]
  },
  {
   "cell_type": "code",
   "execution_count": 41,
   "metadata": {},
   "outputs": [
    {
     "name": "stdout",
     "output_type": "stream",
     "text": [
      "Best: -0.061357 using {'C': 0.001, 'epsilon': 2, 'gamma': 0.001}\n",
      "-0.676884 (0.313532) with: {'C': 0.001, 'epsilon': 0, 'gamma': 0.001}\n",
      "-0.518115 (0.298840) with: {'C': 0.001, 'epsilon': 0, 'gamma': 0.01}\n",
      "-0.192958 (0.245222) with: {'C': 0.001, 'epsilon': 0, 'gamma': 0.1}\n",
      "-0.230252 (0.237422) with: {'C': 0.001, 'epsilon': 0, 'gamma': 1}\n",
      "-0.061357 (0.078846) with: {'C': 0.001, 'epsilon': 0.01, 'gamma': 0.001}\n",
      "-0.061357 (0.078846) with: {'C': 0.001, 'epsilon': 0.01, 'gamma': 0.01}\n",
      "-0.061357 (0.078846) with: {'C': 0.001, 'epsilon': 0.01, 'gamma': 0.1}\n",
      "-0.061357 (0.078846) with: {'C': 0.001, 'epsilon': 0.01, 'gamma': 1}\n",
      "-0.061357 (0.078846) with: {'C': 0.001, 'epsilon': 0.1, 'gamma': 0.001}\n",
      "-0.061357 (0.078846) with: {'C': 0.001, 'epsilon': 0.1, 'gamma': 0.01}\n",
      "-0.061357 (0.078846) with: {'C': 0.001, 'epsilon': 0.1, 'gamma': 0.1}\n",
      "-0.061357 (0.078846) with: {'C': 0.001, 'epsilon': 0.1, 'gamma': 1}\n",
      "-0.061357 (0.078846) with: {'C': 0.001, 'epsilon': 0.5, 'gamma': 0.001}\n",
      "-0.061357 (0.078846) with: {'C': 0.001, 'epsilon': 0.5, 'gamma': 0.01}\n",
      "-0.061357 (0.078846) with: {'C': 0.001, 'epsilon': 0.5, 'gamma': 0.1}\n",
      "-0.061357 (0.078846) with: {'C': 0.001, 'epsilon': 0.5, 'gamma': 1}\n",
      "-0.061357 (0.078846) with: {'C': 0.001, 'epsilon': 1, 'gamma': 0.001}\n",
      "-0.061357 (0.078846) with: {'C': 0.001, 'epsilon': 1, 'gamma': 0.01}\n",
      "-0.061357 (0.078846) with: {'C': 0.001, 'epsilon': 1, 'gamma': 0.1}\n",
      "-0.061357 (0.078846) with: {'C': 0.001, 'epsilon': 1, 'gamma': 1}\n",
      "-0.061357 (0.078846) with: {'C': 0.001, 'epsilon': 2, 'gamma': 0.001}\n",
      "-0.061357 (0.078846) with: {'C': 0.001, 'epsilon': 2, 'gamma': 0.01}\n",
      "-0.061357 (0.078846) with: {'C': 0.001, 'epsilon': 2, 'gamma': 0.1}\n",
      "-0.061357 (0.078846) with: {'C': 0.001, 'epsilon': 2, 'gamma': 1}\n",
      "-0.061357 (0.078846) with: {'C': 0.001, 'epsilon': 4, 'gamma': 0.001}\n",
      "-0.061357 (0.078846) with: {'C': 0.001, 'epsilon': 4, 'gamma': 0.01}\n",
      "-0.061357 (0.078846) with: {'C': 0.001, 'epsilon': 4, 'gamma': 0.1}\n",
      "-0.061357 (0.078846) with: {'C': 0.001, 'epsilon': 4, 'gamma': 1}\n",
      "-0.842515 (0.550169) with: {'C': 0.01, 'epsilon': 0, 'gamma': 0.001}\n",
      "-0.267967 (0.273208) with: {'C': 0.01, 'epsilon': 0, 'gamma': 0.01}\n",
      "-0.194234 (0.221618) with: {'C': 0.01, 'epsilon': 0, 'gamma': 0.1}\n",
      "-0.243580 (0.246826) with: {'C': 0.01, 'epsilon': 0, 'gamma': 1}\n",
      "-0.061357 (0.078846) with: {'C': 0.01, 'epsilon': 0.01, 'gamma': 0.001}\n",
      "-0.061357 (0.078846) with: {'C': 0.01, 'epsilon': 0.01, 'gamma': 0.01}\n",
      "-0.061357 (0.078846) with: {'C': 0.01, 'epsilon': 0.01, 'gamma': 0.1}\n",
      "-0.061357 (0.078846) with: {'C': 0.01, 'epsilon': 0.01, 'gamma': 1}\n",
      "-0.061357 (0.078846) with: {'C': 0.01, 'epsilon': 0.1, 'gamma': 0.001}\n",
      "-0.061357 (0.078846) with: {'C': 0.01, 'epsilon': 0.1, 'gamma': 0.01}\n",
      "-0.061357 (0.078846) with: {'C': 0.01, 'epsilon': 0.1, 'gamma': 0.1}\n",
      "-0.061357 (0.078846) with: {'C': 0.01, 'epsilon': 0.1, 'gamma': 1}\n",
      "-0.061357 (0.078846) with: {'C': 0.01, 'epsilon': 0.5, 'gamma': 0.001}\n",
      "-0.061357 (0.078846) with: {'C': 0.01, 'epsilon': 0.5, 'gamma': 0.01}\n",
      "-0.061357 (0.078846) with: {'C': 0.01, 'epsilon': 0.5, 'gamma': 0.1}\n",
      "-0.061357 (0.078846) with: {'C': 0.01, 'epsilon': 0.5, 'gamma': 1}\n",
      "-0.061357 (0.078846) with: {'C': 0.01, 'epsilon': 1, 'gamma': 0.001}\n",
      "-0.061357 (0.078846) with: {'C': 0.01, 'epsilon': 1, 'gamma': 0.01}\n",
      "-0.061357 (0.078846) with: {'C': 0.01, 'epsilon': 1, 'gamma': 0.1}\n",
      "-0.061357 (0.078846) with: {'C': 0.01, 'epsilon': 1, 'gamma': 1}\n",
      "-0.061357 (0.078846) with: {'C': 0.01, 'epsilon': 2, 'gamma': 0.001}\n",
      "-0.061357 (0.078846) with: {'C': 0.01, 'epsilon': 2, 'gamma': 0.01}\n",
      "-0.061357 (0.078846) with: {'C': 0.01, 'epsilon': 2, 'gamma': 0.1}\n",
      "-0.061357 (0.078846) with: {'C': 0.01, 'epsilon': 2, 'gamma': 1}\n",
      "-0.061357 (0.078846) with: {'C': 0.01, 'epsilon': 4, 'gamma': 0.001}\n",
      "-0.061357 (0.078846) with: {'C': 0.01, 'epsilon': 4, 'gamma': 0.01}\n",
      "-0.061357 (0.078846) with: {'C': 0.01, 'epsilon': 4, 'gamma': 0.1}\n",
      "-0.061357 (0.078846) with: {'C': 0.01, 'epsilon': 4, 'gamma': 1}\n",
      "-0.234350 (0.277108) with: {'C': 0.1, 'epsilon': 0, 'gamma': 0.001}\n",
      "-0.233113 (0.278848) with: {'C': 0.1, 'epsilon': 0, 'gamma': 0.01}\n",
      "-0.434889 (0.743060) with: {'C': 0.1, 'epsilon': 0, 'gamma': 0.1}\n",
      "-0.464970 (0.524332) with: {'C': 0.1, 'epsilon': 0, 'gamma': 1}\n",
      "-0.061357 (0.078846) with: {'C': 0.1, 'epsilon': 0.01, 'gamma': 0.001}\n",
      "-0.061357 (0.078846) with: {'C': 0.1, 'epsilon': 0.01, 'gamma': 0.01}\n",
      "-0.061357 (0.078846) with: {'C': 0.1, 'epsilon': 0.01, 'gamma': 0.1}\n",
      "-0.061357 (0.078846) with: {'C': 0.1, 'epsilon': 0.01, 'gamma': 1}\n",
      "-0.061357 (0.078846) with: {'C': 0.1, 'epsilon': 0.1, 'gamma': 0.001}\n",
      "-0.061357 (0.078846) with: {'C': 0.1, 'epsilon': 0.1, 'gamma': 0.01}\n",
      "-0.061357 (0.078846) with: {'C': 0.1, 'epsilon': 0.1, 'gamma': 0.1}\n",
      "-0.061357 (0.078846) with: {'C': 0.1, 'epsilon': 0.1, 'gamma': 1}\n",
      "-0.061357 (0.078846) with: {'C': 0.1, 'epsilon': 0.5, 'gamma': 0.001}\n",
      "-0.061357 (0.078846) with: {'C': 0.1, 'epsilon': 0.5, 'gamma': 0.01}\n",
      "-0.061357 (0.078846) with: {'C': 0.1, 'epsilon': 0.5, 'gamma': 0.1}\n",
      "-0.061357 (0.078846) with: {'C': 0.1, 'epsilon': 0.5, 'gamma': 1}\n",
      "-0.061357 (0.078846) with: {'C': 0.1, 'epsilon': 1, 'gamma': 0.001}\n",
      "-0.061357 (0.078846) with: {'C': 0.1, 'epsilon': 1, 'gamma': 0.01}\n",
      "-0.061357 (0.078846) with: {'C': 0.1, 'epsilon': 1, 'gamma': 0.1}\n",
      "-0.061357 (0.078846) with: {'C': 0.1, 'epsilon': 1, 'gamma': 1}\n",
      "-0.061357 (0.078846) with: {'C': 0.1, 'epsilon': 2, 'gamma': 0.001}\n",
      "-0.061357 (0.078846) with: {'C': 0.1, 'epsilon': 2, 'gamma': 0.01}\n",
      "-0.061357 (0.078846) with: {'C': 0.1, 'epsilon': 2, 'gamma': 0.1}\n",
      "-0.061357 (0.078846) with: {'C': 0.1, 'epsilon': 2, 'gamma': 1}\n",
      "-0.061357 (0.078846) with: {'C': 0.1, 'epsilon': 4, 'gamma': 0.001}\n",
      "-0.061357 (0.078846) with: {'C': 0.1, 'epsilon': 4, 'gamma': 0.01}\n",
      "-0.061357 (0.078846) with: {'C': 0.1, 'epsilon': 4, 'gamma': 0.1}\n",
      "-0.061357 (0.078846) with: {'C': 0.1, 'epsilon': 4, 'gamma': 1}\n",
      "-0.576166 (1.083459) with: {'C': 1, 'epsilon': 0, 'gamma': 0.001}\n",
      "-2.262642 (6.252121) with: {'C': 1, 'epsilon': 0, 'gamma': 0.01}\n",
      "-1.343291 (2.496674) with: {'C': 1, 'epsilon': 0, 'gamma': 0.1}\n",
      "-0.603880 (0.646737) with: {'C': 1, 'epsilon': 0, 'gamma': 1}\n",
      "-0.061357 (0.078846) with: {'C': 1, 'epsilon': 0.01, 'gamma': 0.001}\n",
      "-0.061357 (0.078846) with: {'C': 1, 'epsilon': 0.01, 'gamma': 0.01}\n",
      "-0.061357 (0.078846) with: {'C': 1, 'epsilon': 0.01, 'gamma': 0.1}\n",
      "-0.061357 (0.078846) with: {'C': 1, 'epsilon': 0.01, 'gamma': 1}\n",
      "-0.061357 (0.078846) with: {'C': 1, 'epsilon': 0.1, 'gamma': 0.001}\n",
      "-0.061357 (0.078846) with: {'C': 1, 'epsilon': 0.1, 'gamma': 0.01}\n",
      "-0.061357 (0.078846) with: {'C': 1, 'epsilon': 0.1, 'gamma': 0.1}\n",
      "-0.061357 (0.078846) with: {'C': 1, 'epsilon': 0.1, 'gamma': 1}\n",
      "-0.061357 (0.078846) with: {'C': 1, 'epsilon': 0.5, 'gamma': 0.001}\n",
      "-0.061357 (0.078846) with: {'C': 1, 'epsilon': 0.5, 'gamma': 0.01}\n",
      "-0.061357 (0.078846) with: {'C': 1, 'epsilon': 0.5, 'gamma': 0.1}\n",
      "-0.061357 (0.078846) with: {'C': 1, 'epsilon': 0.5, 'gamma': 1}\n",
      "-0.061357 (0.078846) with: {'C': 1, 'epsilon': 1, 'gamma': 0.001}\n",
      "-0.061357 (0.078846) with: {'C': 1, 'epsilon': 1, 'gamma': 0.01}\n",
      "-0.061357 (0.078846) with: {'C': 1, 'epsilon': 1, 'gamma': 0.1}\n",
      "-0.061357 (0.078846) with: {'C': 1, 'epsilon': 1, 'gamma': 1}\n",
      "-0.061357 (0.078846) with: {'C': 1, 'epsilon': 2, 'gamma': 0.001}\n",
      "-0.061357 (0.078846) with: {'C': 1, 'epsilon': 2, 'gamma': 0.01}\n",
      "-0.061357 (0.078846) with: {'C': 1, 'epsilon': 2, 'gamma': 0.1}\n",
      "-0.061357 (0.078846) with: {'C': 1, 'epsilon': 2, 'gamma': 1}\n",
      "-0.061357 (0.078846) with: {'C': 1, 'epsilon': 4, 'gamma': 0.001}\n",
      "-0.061357 (0.078846) with: {'C': 1, 'epsilon': 4, 'gamma': 0.01}\n",
      "-0.061357 (0.078846) with: {'C': 1, 'epsilon': 4, 'gamma': 0.1}\n",
      "-0.061357 (0.078846) with: {'C': 1, 'epsilon': 4, 'gamma': 1}\n",
      "-2.261230 (6.352823) with: {'C': 10, 'epsilon': 0, 'gamma': 0.001}\n",
      "-8.542607 (24.285348) with: {'C': 10, 'epsilon': 0, 'gamma': 0.01}\n",
      "-6.510963 (10.938727) with: {'C': 10, 'epsilon': 0, 'gamma': 0.1}\n",
      "-2.316631 (5.327185) with: {'C': 10, 'epsilon': 0, 'gamma': 1}\n",
      "-0.061357 (0.078846) with: {'C': 10, 'epsilon': 0.01, 'gamma': 0.001}\n",
      "-0.061357 (0.078846) with: {'C': 10, 'epsilon': 0.01, 'gamma': 0.01}\n",
      "-0.061357 (0.078846) with: {'C': 10, 'epsilon': 0.01, 'gamma': 0.1}\n",
      "-0.061357 (0.078846) with: {'C': 10, 'epsilon': 0.01, 'gamma': 1}\n",
      "-0.061357 (0.078846) with: {'C': 10, 'epsilon': 0.1, 'gamma': 0.001}\n",
      "-0.061357 (0.078846) with: {'C': 10, 'epsilon': 0.1, 'gamma': 0.01}\n",
      "-0.061357 (0.078846) with: {'C': 10, 'epsilon': 0.1, 'gamma': 0.1}\n",
      "-0.061357 (0.078846) with: {'C': 10, 'epsilon': 0.1, 'gamma': 1}\n",
      "-0.061357 (0.078846) with: {'C': 10, 'epsilon': 0.5, 'gamma': 0.001}\n",
      "-0.061357 (0.078846) with: {'C': 10, 'epsilon': 0.5, 'gamma': 0.01}\n",
      "-0.061357 (0.078846) with: {'C': 10, 'epsilon': 0.5, 'gamma': 0.1}\n",
      "-0.061357 (0.078846) with: {'C': 10, 'epsilon': 0.5, 'gamma': 1}\n",
      "-0.061357 (0.078846) with: {'C': 10, 'epsilon': 1, 'gamma': 0.001}\n",
      "-0.061357 (0.078846) with: {'C': 10, 'epsilon': 1, 'gamma': 0.01}\n",
      "-0.061357 (0.078846) with: {'C': 10, 'epsilon': 1, 'gamma': 0.1}\n",
      "-0.061357 (0.078846) with: {'C': 10, 'epsilon': 1, 'gamma': 1}\n",
      "-0.061357 (0.078846) with: {'C': 10, 'epsilon': 2, 'gamma': 0.001}\n",
      "-0.061357 (0.078846) with: {'C': 10, 'epsilon': 2, 'gamma': 0.01}\n",
      "-0.061357 (0.078846) with: {'C': 10, 'epsilon': 2, 'gamma': 0.1}\n",
      "-0.061357 (0.078846) with: {'C': 10, 'epsilon': 2, 'gamma': 1}\n",
      "-0.061357 (0.078846) with: {'C': 10, 'epsilon': 4, 'gamma': 0.001}\n",
      "-0.061357 (0.078846) with: {'C': 10, 'epsilon': 4, 'gamma': 0.01}\n",
      "-0.061357 (0.078846) with: {'C': 10, 'epsilon': 4, 'gamma': 0.1}\n",
      "-0.061357 (0.078846) with: {'C': 10, 'epsilon': 4, 'gamma': 1}\n"
     ]
    }
   ],
   "source": [
    "print(\"Best: %f using %s\" % (grid_result.best_score_, grid_result.best_params_))\n",
    "means = grid_result.cv_results_['mean_test_score']\n",
    "stds = grid_result.cv_results_['std_test_score']\n",
    "params = grid_result.cv_results_['params']\n",
    "for mean, stdev, param in zip(means, stds, params):\n",
    "    print(\"%f (%f) with: %r\" % (mean, stdev, param))"
   ]
  },
  {
   "cell_type": "markdown",
   "metadata": {},
   "source": [
    "##  Tune scaled GBM"
   ]
  },
  {
   "cell_type": "code",
   "execution_count": 42,
   "metadata": {},
   "outputs": [
    {
     "name": "stderr",
     "output_type": "stream",
     "text": [
      "/Users/tmedeiros/opt/anaconda3/lib/python3.8/site-packages/sklearn/model_selection/_split.py:293: FutureWarning: Setting a random_state has no effect since shuffle is False. This will raise an error in 0.24. You should leave random_state to its default (None), or set shuffle=True.\n",
      "  warnings.warn(\n"
     ]
    }
   ],
   "source": [
    "scaler = StandardScaler().fit(X_train)\n",
    "rescaledX = scaler.transform(X_train)\n",
    "param_grid = dict(n_estimators=numpy.array([50,100,150,200,250,300,350,400]))\n",
    "model = GradientBoostingRegressor(random_state=seed)\n",
    "kfold = KFold(n_splits=num_folds, random_state=seed)\n",
    "grid = GridSearchCV(estimator=model, param_grid=param_grid, scoring=scoring, cv=kfold)\n",
    "grid_result = grid.fit(rescaledX, Y_train)"
   ]
  },
  {
   "cell_type": "code",
   "execution_count": 43,
   "metadata": {},
   "outputs": [
    {
     "name": "stdout",
     "output_type": "stream",
     "text": [
      "Best: -0.007746 using {'n_estimators': 50}\n",
      "-0.007746 (0.133763) with: {'n_estimators': 50}\n",
      "-0.095510 (0.170671) with: {'n_estimators': 100}\n",
      "-0.141126 (0.185135) with: {'n_estimators': 150}\n",
      "-0.174018 (0.197903) with: {'n_estimators': 200}\n",
      "-0.215148 (0.204980) with: {'n_estimators': 250}\n",
      "-0.245693 (0.220913) with: {'n_estimators': 300}\n",
      "-0.274774 (0.241064) with: {'n_estimators': 350}\n",
      "-0.292420 (0.245698) with: {'n_estimators': 400}\n"
     ]
    }
   ],
   "source": [
    "print(\"Best: %f using %s\" % (grid_result.best_score_, grid_result.best_params_))\n",
    "means = grid_result.cv_results_['mean_test_score']\n",
    "stds = grid_result.cv_results_['std_test_score']\n",
    "params = grid_result.cv_results_['params']\n",
    "for mean, stdev, param in zip(means, stds, params):\n",
    "    print(\"%f (%f) with: %r\" % (mean, stdev, param))"
   ]
  },
  {
   "cell_type": "markdown",
   "metadata": {},
   "source": [
    "## Tune scaled AdaBoostRegressor"
   ]
  },
  {
   "cell_type": "code",
   "execution_count": 44,
   "metadata": {},
   "outputs": [
    {
     "name": "stderr",
     "output_type": "stream",
     "text": [
      "/Users/tmedeiros/opt/anaconda3/lib/python3.8/site-packages/sklearn/model_selection/_split.py:293: FutureWarning: Setting a random_state has no effect since shuffle is False. This will raise an error in 0.24. You should leave random_state to its default (None), or set shuffle=True.\n",
      "  warnings.warn(\n"
     ]
    }
   ],
   "source": [
    "scaler = StandardScaler().fit(X_train)\n",
    "rescaledX = scaler.transform(X_train)\n",
    "param_grid = dict(n_estimators=numpy.array([50,100,150,200,250,300,350,400]))\n",
    "model = AdaBoostRegressor(random_state=seed)\n",
    "kfold = KFold(n_splits=num_folds, random_state=seed)\n",
    "grid = GridSearchCV(estimator=model, param_grid=param_grid, scoring=scoring, cv=kfold)\n",
    "grid_result = grid.fit(rescaledX, Y_train)"
   ]
  },
  {
   "cell_type": "code",
   "execution_count": 45,
   "metadata": {},
   "outputs": [
    {
     "name": "stdout",
     "output_type": "stream",
     "text": [
      "Best: 0.028338 using {'n_estimators': 50}\n",
      "0.028338 (0.084591) with: {'n_estimators': 50}\n",
      "0.028338 (0.084591) with: {'n_estimators': 100}\n",
      "0.028338 (0.084591) with: {'n_estimators': 150}\n",
      "0.028338 (0.084591) with: {'n_estimators': 200}\n",
      "0.028338 (0.084591) with: {'n_estimators': 250}\n",
      "0.028338 (0.084591) with: {'n_estimators': 300}\n",
      "0.028338 (0.084591) with: {'n_estimators': 350}\n",
      "0.028338 (0.084591) with: {'n_estimators': 400}\n"
     ]
    }
   ],
   "source": [
    "print(\"Best: %f using %s\" % (grid_result.best_score_, grid_result.best_params_))\n",
    "means = grid_result.cv_results_['mean_test_score']\n",
    "stds = grid_result.cv_results_['std_test_score']\n",
    "params = grid_result.cv_results_['params']\n",
    "for mean, stdev, param in zip(means, stds, params):\n",
    "    print(\"%f (%f) with: %r\" % (mean, stdev, param))"
   ]
  },
  {
   "cell_type": "markdown",
   "metadata": {},
   "source": [
    "# Preparing the Model"
   ]
  },
  {
   "cell_type": "code",
   "execution_count": 103,
   "metadata": {},
   "outputs": [
    {
     "data": {
      "text/plain": [
       "KNeighborsRegressor(n_neighbors=19)"
      ]
     },
     "execution_count": 103,
     "metadata": {},
     "output_type": "execute_result"
    }
   ],
   "source": [
    "# prepare the model\n",
    "scaler = StandardScaler().fit(X_train)\n",
    "rescaledX = scaler.transform(X_train)\n",
    "model = KNeighborsRegressor(n_neighbors=19)\n",
    "model.fit(rescaledX, Y_train)"
   ]
  },
  {
   "cell_type": "code",
   "execution_count": 104,
   "metadata": {},
   "outputs": [
    {
     "name": "stdout",
     "output_type": "stream",
     "text": [
      "0.14742677832669493\n"
     ]
    }
   ],
   "source": [
    "# transform the validation dataset\n",
    "rescaledValidationX = scaler.transform(X_validation)\n",
    "predictions = model.predict(rescaledValidationX)\n",
    "#print(mean_squared_log_error(Y_validation, predictions))\n",
    "#print(explained_variance_score(Y_validation, predictions))\n",
    "print(r2_score(Y_validation, predictions))"
   ]
  },
  {
   "cell_type": "code",
   "execution_count": 105,
   "metadata": {},
   "outputs": [
    {
     "data": {
      "text/plain": [
       "RandomForestRegressor(random_state=7)"
      ]
     },
     "execution_count": 105,
     "metadata": {},
     "output_type": "execute_result"
    }
   ],
   "source": [
    "# prepare the model\n",
    "scaler = StandardScaler().fit(X_train)\n",
    "rescaledX = scaler.transform(X_train)\n",
    "model = RandomForestRegressor(random_state=seed, n_estimators=100)\n",
    "model.fit(rescaledX, Y_train)"
   ]
  },
  {
   "cell_type": "code",
   "execution_count": 106,
   "metadata": {},
   "outputs": [
    {
     "name": "stdout",
     "output_type": "stream",
     "text": [
      "-0.5483343592048384\n"
     ]
    }
   ],
   "source": [
    "# transform the validation dataset\n",
    "rescaledValidationX = scaler.transform(X_validation)\n",
    "predictions = model.predict(rescaledValidationX)\n",
    "#print(mean_squared_log_error(Y_validation, predictions))\n",
    "#print(explained_variance_score(Y_validation, predictions))\n",
    "print(r2_score(Y_validation, predictions))"
   ]
  },
  {
   "cell_type": "code",
   "execution_count": 107,
   "metadata": {},
   "outputs": [
    {
     "data": {
      "text/plain": [
       "SVR(C=10, epsilon=2, gamma=0.1)"
      ]
     },
     "execution_count": 107,
     "metadata": {},
     "output_type": "execute_result"
    }
   ],
   "source": [
    "#Best: -0.093469 using {'C': 10, 'epsilon': 2, 'gamma': 0.1}\n",
    "# prepare the model\n",
    "scaler = StandardScaler().fit(X_train)\n",
    "rescaledX = scaler.transform(X_train)\n",
    "model = SVR(C=10, epsilon=2, gamma=0.1)\n",
    "model.fit(rescaledX, Y_train)"
   ]
  },
  {
   "cell_type": "code",
   "execution_count": 108,
   "metadata": {},
   "outputs": [
    {
     "name": "stdout",
     "output_type": "stream",
     "text": [
      "0.1613409511977515\n"
     ]
    }
   ],
   "source": [
    "# transform the validation dataset\n",
    "rescaledValidationX = scaler.transform(X_validation)\n",
    "predictions = model.predict(rescaledValidationX)\n",
    "#print(mean_squared_log_error(Y_validation, predictions))\n",
    "print(explained_variance_score(Y_validation, predictions))\n",
    "#print(r2_score(Y_validation, predictions))"
   ]
  },
  {
   "cell_type": "code",
   "execution_count": 109,
   "metadata": {},
   "outputs": [
    {
     "data": {
      "text/plain": [
       "-0.00026514740336147646"
      ]
     },
     "execution_count": 109,
     "metadata": {},
     "output_type": "execute_result"
    }
   ],
   "source": [
    "model.score(X_validation, Y_validation)"
   ]
  },
  {
   "cell_type": "code",
   "execution_count": 110,
   "metadata": {},
   "outputs": [
    {
     "data": {
      "text/plain": [
       "GradientBoostingRegressor(n_estimators=50, random_state=7)"
      ]
     },
     "execution_count": 110,
     "metadata": {},
     "output_type": "execute_result"
    }
   ],
   "source": [
    "# prepare the model\n",
    "scaler = StandardScaler().fit(X_train)\n",
    "rescaledX = scaler.transform(X_train)\n",
    "model = GradientBoostingRegressor(random_state=seed, n_estimators=50)\n",
    "model.fit(rescaledX, Y_train)"
   ]
  },
  {
   "cell_type": "code",
   "execution_count": 111,
   "metadata": {},
   "outputs": [
    {
     "name": "stdout",
     "output_type": "stream",
     "text": [
      "-2.054505551627879\n"
     ]
    }
   ],
   "source": [
    "# transform the validation dataset\n",
    "rescaledValidationX = scaler.transform(X_validation)\n",
    "predictions = model.predict(rescaledValidationX)\n",
    "#print(mean_squared_log_error(Y_validation, predictions))\n",
    "#print(explained_variance_score(Y_validation, predictions))\n",
    "print(r2_score(Y_validation, predictions))"
   ]
  },
  {
   "cell_type": "code",
   "execution_count": 112,
   "metadata": {},
   "outputs": [
    {
     "data": {
      "text/plain": [
       "AdaBoostRegressor(n_estimators=150, random_state=7)"
      ]
     },
     "execution_count": 112,
     "metadata": {},
     "output_type": "execute_result"
    }
   ],
   "source": [
    "# prepare the model AdaBoostRegressor\n",
    "scaler = StandardScaler().fit(X_train)\n",
    "rescaledX = scaler.transform(X_train)\n",
    "model = AdaBoostRegressor(random_state=seed, n_estimators=150)\n",
    "model.fit(rescaledX, Y_train)"
   ]
  },
  {
   "cell_type": "code",
   "execution_count": 113,
   "metadata": {},
   "outputs": [
    {
     "name": "stdout",
     "output_type": "stream",
     "text": [
      "0.1511742222821688\n"
     ]
    }
   ],
   "source": [
    "# transform the validation dataset\n",
    "rescaledValidationX = scaler.transform(X_validation)\n",
    "predictions = model.predict(rescaledValidationX)\n",
    "#print(mean_squared_log_error(Y_validation, predictions))\n",
    "#print(explained_variance_score(Y_validation, predictions))\n",
    "print(r2_score(Y_validation, predictions))"
   ]
  },
  {
   "cell_type": "code",
   "execution_count": 114,
   "metadata": {
    "scrolled": false
   },
   "outputs": [
    {
     "data": {
      "text/plain": [
       "[22.03344594594595,\n",
       " 23.09852398523985,\n",
       " 23.09852398523985,\n",
       " 23.69244604316544,\n",
       " 20.503717472118936,\n",
       " 23.707042253521134,\n",
       " 22.03344594594595,\n",
       " 22.03344594594595,\n",
       " 22.03344594594595,\n",
       " 24.34363636363637,\n",
       " 20.503717472118936,\n",
       " 22.195564516129,\n",
       " 22.03344594594595,\n",
       " 22.195564516129,\n",
       " 23.707042253521134,\n",
       " 22.03344594594595,\n",
       " 25.834374999999994,\n",
       " 22.03344594594595,\n",
       " 25.834374999999994,\n",
       " 22.03344594594595,\n",
       " 24.34363636363637,\n",
       " 25.834374999999994,\n",
       " 23.707042253521134,\n",
       " 21.884232365145195,\n",
       " 23.09852398523985,\n",
       " 23.69244604316544,\n",
       " 22.03344594594595,\n",
       " 25.386046511627907,\n",
       " 24.34363636363637,\n",
       " 41.57500000000001,\n",
       " 25.386046511627907,\n",
       " 25.834374999999994,\n",
       " 22.03344594594595,\n",
       " 20.503717472118936,\n",
       " 22.03344594594595,\n",
       " 22.03344594594595,\n",
       " 22.195564516129,\n",
       " 22.03344594594595,\n",
       " 22.195564516129,\n",
       " 23.707042253521134,\n",
       " 22.195564516129,\n",
       " 24.34363636363637,\n",
       " 22.195564516129,\n",
       " 20.503717472118936,\n",
       " 21.884232365145195,\n",
       " 22.03344594594595,\n",
       " 23.69244604316544,\n",
       " 23.09852398523985,\n",
       " 22.03344594594595,\n",
       " 24.34363636363637,\n",
       " 20.503717472118936,\n",
       " 23.09852398523985,\n",
       " 23.69244604316544,\n",
       " 23.69244604316544,\n",
       " 22.195564516129,\n",
       " 22.03344594594595,\n",
       " 23.09852398523985,\n",
       " 23.707042253521134,\n",
       " 23.09852398523985,\n",
       " 26.166666666666668,\n",
       " 20.503717472118936,\n",
       " 25.52848101265824,\n",
       " 23.09852398523985,\n",
       " 23.09852398523985,\n",
       " 22.536842105263155,\n",
       " 22.195564516129,\n",
       " 23.09852398523985,\n",
       " 22.03344594594595,\n",
       " 30.282352941176473,\n",
       " 22.03344594594595,\n",
       " 20.503717472118936,\n",
       " 22.561437908496725,\n",
       " 23.09852398523985,\n",
       " 22.03344594594595,\n",
       " 20.503717472118936,\n",
       " 25.386046511627907,\n",
       " 21.12848837209301,\n",
       " 24.34363636363637,\n",
       " 22.195564516129,\n",
       " 25.281188118811883,\n",
       " 30.282352941176473,\n",
       " 22.03344594594595,\n",
       " 22.03344594594595,\n",
       " 23.69244604316544,\n",
       " 22.195564516129,\n",
       " 23.69244604316544,\n",
       " 22.561437908496725,\n",
       " 22.03344594594595,\n",
       " 22.03344594594595,\n",
       " 22.195564516129,\n",
       " 22.03344594594595,\n",
       " 22.195564516129,\n",
       " 22.195564516129]"
      ]
     },
     "execution_count": 114,
     "metadata": {},
     "output_type": "execute_result"
    }
   ],
   "source": [
    "predictions.tolist()"
   ]
  },
  {
   "cell_type": "code",
   "execution_count": 115,
   "metadata": {},
   "outputs": [
    {
     "name": "stdout",
     "output_type": "stream",
     "text": [
      "[17.0, 34.2, 37.2, 20.5, 16.2, 20.0, 19.8, 13.6, 14.4, 30.8, 31.9, 19.4, 18.0, 32.2, 24.5, 24.8, 19.2, 31.4, 24.4, 23.5, 23.0, 26.3, 19.7, 15.4, 16.2, 21.9, 20.6, 33.4, 28.1, 48.4, 13.5, 26.7, 16.1, 29.7, 18.5, 21.7, 20.0, 20.6, 17.7, 18.2, 13.5, 35.1, 30.8, 12.9, 23.3, 30.6, 33.9, 12.2, 31.9, 34.4, 14.5, 13.0, 22.3, 26.3, 25.2, 33.2, 27.0, 24.4, 32.9, 35.0, 11.5, 13.6, 29.8, 25.4, 25.8, 27.6, 45.9, 37.0, 37.7, 20.1, 13.1, 22.8, 24.5, 41.3, 22.6, 26.6, 15.8, 28.3, 11.2, 32.8, 35.1, 29.1, 21.4, 15.4, 26.9, 31.0, 23.1, 35.4, 12.9, 25.1, 26.6, 17.0, 22.0]\n"
     ]
    }
   ],
   "source": [
    "print(Y_validation.values.tolist())"
   ]
  },
  {
   "cell_type": "code",
   "execution_count": 116,
   "metadata": {
    "scrolled": false
   },
   "outputs": [
    {
     "data": {
      "text/plain": [
       "[<matplotlib.lines.Line2D at 0x7f90a0cb1340>]"
      ]
     },
     "execution_count": 116,
     "metadata": {},
     "output_type": "execute_result"
    },
    {
     "data": {
      "image/png": "[encoded data removed]",
      "text/plain": [
       "<Figure size 1440x720 with 1 Axes>"
      ]
     },
     "metadata": {
      "needs_background": "light"
     },
     "output_type": "display_data"
    }
   ],
   "source": [
    "plt.scatter(Y_validation.values.tolist(), predictions.tolist())\n",
    "plt.plot([0, 50], [0, 50], '--k')"
   ]
  },
  {
   "cell_type": "code",
   "execution_count": 46,
   "metadata": {},
   "outputs": [
    {
     "ename": "NameError",
     "evalue": "name 'wandb' is not defined",
     "output_type": "error",
     "traceback": [
      "\u001b[0;31m---------------------------------------------------------------------------\u001b[0m",
      "\u001b[0;31mNameError\u001b[0m                                 Traceback (most recent call last)",
      "\u001b[0;32m<ipython-input-46-c5ed21dbf17c>\u001b[0m in \u001b[0;36m<module>\u001b[0;34m\u001b[0m\n\u001b[0;32m----> 1\u001b[0;31m \u001b[0mwandb\u001b[0m\u001b[0;34m.\u001b[0m\u001b[0msklearn\u001b[0m\u001b[0;34m.\u001b[0m\u001b[0mplot_outlier_candidates\u001b[0m\u001b[0;34m(\u001b[0m\u001b[0mmodel\u001b[0m\u001b[0;34m,\u001b[0m \u001b[0mX_train\u001b[0m\u001b[0;34m,\u001b[0m \u001b[0mpredictions\u001b[0m\u001b[0;34m)\u001b[0m\u001b[0;34m\u001b[0m\u001b[0;34m\u001b[0m\u001b[0m\n\u001b[0m",
      "\u001b[0;31mNameError\u001b[0m: name 'wandb' is not defined"
     ]
    }
   ],
   "source": [
    "wandb.sklearn.plot_outlier_candidates(model, X_train, predictions)"
   ]
  },
  {
   "cell_type": "code",
   "execution_count": 118,
   "metadata": {},
   "outputs": [
    {
     "data": {
      "text/html": [
       "<div>\n",
       "<style scoped>\n",
       "    .dataframe tbody tr th:only-of-type {\n",
       "        vertical-align: middle;\n",
       "    }\n",
       "\n",
       "    .dataframe tbody tr th {\n",
       "        vertical-align: top;\n",
       "    }\n",
       "\n",
       "    .dataframe thead th {\n",
       "        text-align: right;\n",
       "    }\n",
       "</style>\n",
       "<table border=\"1\" class=\"dataframe\">\n",
       "  <thead>\n",
       "    <tr style=\"text-align: right;\">\n",
       "      <th></th>\n",
       "      <th>price</th>\n",
       "      <th>price_per_earnings</th>\n",
       "      <th>dividend_yield</th>\n",
       "      <th>earnings_per_share</th>\n",
       "      <th>52_week_low</th>\n",
       "      <th>52_week_high</th>\n",
       "      <th>market_cap</th>\n",
       "      <th>vector1</th>\n",
       "      <th>vector2</th>\n",
       "      <th>vector3</th>\n",
       "      <th>vector4</th>\n",
       "    </tr>\n",
       "  </thead>\n",
       "  <tbody>\n",
       "    <tr>\n",
       "      <th>0</th>\n",
       "      <td>222.89</td>\n",
       "      <td>24.31</td>\n",
       "      <td>2.3329</td>\n",
       "      <td>7.92</td>\n",
       "      <td>259.77</td>\n",
       "      <td>175.490</td>\n",
       "      <td>1.3872e+11</td>\n",
       "      <td>0.3047</td>\n",
       "      <td>-1.1492</td>\n",
       "      <td>-0.3533</td>\n",
       "      <td>-2.8370</td>\n",
       "    </tr>\n",
       "    <tr>\n",
       "      <th>1</th>\n",
       "      <td>60.24</td>\n",
       "      <td>27.76</td>\n",
       "      <td>1.1480</td>\n",
       "      <td>1.70</td>\n",
       "      <td>68.39</td>\n",
       "      <td>48.925</td>\n",
       "      <td>1.0783e+10</td>\n",
       "      <td>-0.2140</td>\n",
       "      <td>-0.4369</td>\n",
       "      <td>-1.2729</td>\n",
       "      <td>-0.7849</td>\n",
       "    </tr>\n",
       "    <tr>\n",
       "      <th>2</th>\n",
       "      <td>56.27</td>\n",
       "      <td>22.51</td>\n",
       "      <td>1.9090</td>\n",
       "      <td>0.26</td>\n",
       "      <td>64.60</td>\n",
       "      <td>42.280</td>\n",
       "      <td>1.0212e+11</td>\n",
       "      <td>0.1297</td>\n",
       "      <td>-1.1131</td>\n",
       "      <td>-0.6357</td>\n",
       "      <td>-1.0210</td>\n",
       "    </tr>\n",
       "    <tr>\n",
       "      <th>3</th>\n",
       "      <td>108.48</td>\n",
       "      <td>19.41</td>\n",
       "      <td>2.4996</td>\n",
       "      <td>3.29</td>\n",
       "      <td>125.86</td>\n",
       "      <td>60.050</td>\n",
       "      <td>1.8139e+11</td>\n",
       "      <td>0.1802</td>\n",
       "      <td>-1.1673</td>\n",
       "      <td>-0.7491</td>\n",
       "      <td>1.0102</td>\n",
       "    </tr>\n",
       "    <tr>\n",
       "      <th>4</th>\n",
       "      <td>150.51</td>\n",
       "      <td>25.47</td>\n",
       "      <td>1.7145</td>\n",
       "      <td>5.44</td>\n",
       "      <td>162.60</td>\n",
       "      <td>114.820</td>\n",
       "      <td>9.8766e+10</td>\n",
       "      <td>0.2285</td>\n",
       "      <td>-0.4749</td>\n",
       "      <td>-0.7828</td>\n",
       "      <td>-2.1630</td>\n",
       "    </tr>\n",
       "    <tr>\n",
       "      <th>...</th>\n",
       "      <td>...</td>\n",
       "      <td>...</td>\n",
       "      <td>...</td>\n",
       "      <td>...</td>\n",
       "      <td>...</td>\n",
       "      <td>...</td>\n",
       "      <td>...</td>\n",
       "      <td>...</td>\n",
       "      <td>...</td>\n",
       "      <td>...</td>\n",
       "      <td>...</td>\n",
       "    </tr>\n",
       "    <tr>\n",
       "      <th>500</th>\n",
       "      <td>70.24</td>\n",
       "      <td>30.94</td>\n",
       "      <td>1.1701</td>\n",
       "      <td>1.83</td>\n",
       "      <td>76.81</td>\n",
       "      <td>46.860</td>\n",
       "      <td>1.2915e+10</td>\n",
       "      <td>0.1740</td>\n",
       "      <td>-0.2190</td>\n",
       "      <td>-1.0229</td>\n",
       "      <td>-0.6488</td>\n",
       "    </tr>\n",
       "    <tr>\n",
       "      <th>501</th>\n",
       "      <td>76.30</td>\n",
       "      <td>27.25</td>\n",
       "      <td>1.7971</td>\n",
       "      <td>4.07</td>\n",
       "      <td>86.93</td>\n",
       "      <td>62.850</td>\n",
       "      <td>2.7003e+10</td>\n",
       "      <td>0.2349</td>\n",
       "      <td>-1.1265</td>\n",
       "      <td>-0.5574</td>\n",
       "      <td>-0.6951</td>\n",
       "    </tr>\n",
       "    <tr>\n",
       "      <th>502</th>\n",
       "      <td>115.53</td>\n",
       "      <td>14.32</td>\n",
       "      <td>0.7948</td>\n",
       "      <td>9.01</td>\n",
       "      <td>133.49</td>\n",
       "      <td>108.170</td>\n",
       "      <td>2.4455e+10</td>\n",
       "      <td>-0.0466</td>\n",
       "      <td>-1.1366</td>\n",
       "      <td>-0.7960</td>\n",
       "      <td>-1.0415</td>\n",
       "    </tr>\n",
       "    <tr>\n",
       "      <th>503</th>\n",
       "      <td>50.71</td>\n",
       "      <td>17.73</td>\n",
       "      <td>1.4809</td>\n",
       "      <td>2.60</td>\n",
       "      <td>55.61</td>\n",
       "      <td>38.430</td>\n",
       "      <td>1.0671e+10</td>\n",
       "      <td>-0.6403</td>\n",
       "      <td>1.7668</td>\n",
       "      <td>-2.7968</td>\n",
       "      <td>-0.0854</td>\n",
       "    </tr>\n",
       "    <tr>\n",
       "      <th>504</th>\n",
       "      <td>71.51</td>\n",
       "      <td>32.80</td>\n",
       "      <td>0.6824</td>\n",
       "      <td>1.65</td>\n",
       "      <td>80.13</td>\n",
       "      <td>52.000</td>\n",
       "      <td>3.5991e+10</td>\n",
       "      <td>0.2898</td>\n",
       "      <td>-1.0808</td>\n",
       "      <td>-0.6522</td>\n",
       "      <td>0.5372</td>\n",
       "    </tr>\n",
       "  </tbody>\n",
       "</table>\n",
       "<p>461 rows × 11 columns</p>\n",
       "</div>"
      ],
      "text/plain": [
       "      price  price_per_earnings  dividend_yield  earnings_per_share  \\\n",
       "0    222.89               24.31          2.3329                7.92   \n",
       "1     60.24               27.76          1.1480                1.70   \n",
       "2     56.27               22.51          1.9090                0.26   \n",
       "3    108.48               19.41          2.4996                3.29   \n",
       "4    150.51               25.47          1.7145                5.44   \n",
       "..      ...                 ...             ...                 ...   \n",
       "500   70.24               30.94          1.1701                1.83   \n",
       "501   76.30               27.25          1.7971                4.07   \n",
       "502  115.53               14.32          0.7948                9.01   \n",
       "503   50.71               17.73          1.4809                2.60   \n",
       "504   71.51               32.80          0.6824                1.65   \n",
       "\n",
       "     52_week_low  52_week_high  market_cap  vector1  vector2  vector3  vector4  \n",
       "0         259.77       175.490  1.3872e+11   0.3047  -1.1492  -0.3533  -2.8370  \n",
       "1          68.39        48.925  1.0783e+10  -0.2140  -0.4369  -1.2729  -0.7849  \n",
       "2          64.60        42.280  1.0212e+11   0.1297  -1.1131  -0.6357  -1.0210  \n",
       "3         125.86        60.050  1.8139e+11   0.1802  -1.1673  -0.7491   1.0102  \n",
       "4         162.60       114.820  9.8766e+10   0.2285  -0.4749  -0.7828  -2.1630  \n",
       "..           ...           ...         ...      ...      ...      ...      ...  \n",
       "500        76.81        46.860  1.2915e+10   0.1740  -0.2190  -1.0229  -0.6488  \n",
       "501        86.93        62.850  2.7003e+10   0.2349  -1.1265  -0.5574  -0.6951  \n",
       "502       133.49       108.170  2.4455e+10  -0.0466  -1.1366  -0.7960  -1.0415  \n",
       "503        55.61        38.430  1.0671e+10  -0.6403   1.7668  -2.7968  -0.0854  \n",
       "504        80.13        52.000  3.5991e+10   0.2898  -1.0808  -0.6522   0.5372  \n",
       "\n",
       "[461 rows x 11 columns]"
      ]
     },
     "execution_count": 118,
     "metadata": {},
     "output_type": "execute_result"
    }
   ],
   "source": [
    "dataset"
   ]
  },
  {
   "cell_type": "code",
   "execution_count": 119,
   "metadata": {
    "scrolled": true
   },
   "outputs": [
    {
     "name": "stderr",
     "output_type": "stream",
     "text": [
      "<ipython-input-119-2e1bb36fe7be>:3: SettingWithCopyWarning: \n",
      "A value is trying to be set on a copy of a slice from a DataFrame.\n",
      "Try using .loc[row_indexer,col_indexer] = value instead\n",
      "\n",
      "See the caveats in the documentation: https://pandas.pydata.org/pandas-docs/stable/user_guide/indexing.html#returning-a-view-versus-a-copy\n",
      "  esg2[\"esg_rating\"] = target\n"
     ]
    },
    {
     "data": {
      "text/html": [
       "<div>\n",
       "<style scoped>\n",
       "    .dataframe tbody tr th:only-of-type {\n",
       "        vertical-align: middle;\n",
       "    }\n",
       "\n",
       "    .dataframe tbody tr th {\n",
       "        vertical-align: top;\n",
       "    }\n",
       "\n",
       "    .dataframe thead th {\n",
       "        text-align: right;\n",
       "    }\n",
       "</style>\n",
       "<table border=\"1\" class=\"dataframe\">\n",
       "  <thead>\n",
       "    <tr style=\"text-align: right;\">\n",
       "      <th></th>\n",
       "      <th>price</th>\n",
       "      <th>price_per_earnings</th>\n",
       "      <th>dividend_yield</th>\n",
       "      <th>earnings_per_share</th>\n",
       "      <th>52_week_low</th>\n",
       "      <th>52_week_high</th>\n",
       "      <th>market_cap</th>\n",
       "      <th>vector1</th>\n",
       "      <th>vector2</th>\n",
       "      <th>vector3</th>\n",
       "      <th>vector4</th>\n",
       "      <th>esg_rating</th>\n",
       "    </tr>\n",
       "  </thead>\n",
       "  <tbody>\n",
       "    <tr>\n",
       "      <th>0</th>\n",
       "      <td>222.89</td>\n",
       "      <td>24.31</td>\n",
       "      <td>2.3329</td>\n",
       "      <td>7.92</td>\n",
       "      <td>259.77</td>\n",
       "      <td>175.490</td>\n",
       "      <td>1.3872e+11</td>\n",
       "      <td>0.3047</td>\n",
       "      <td>-1.1492</td>\n",
       "      <td>-0.3533</td>\n",
       "      <td>-2.8370</td>\n",
       "      <td>34.9</td>\n",
       "    </tr>\n",
       "    <tr>\n",
       "      <th>1</th>\n",
       "      <td>60.24</td>\n",
       "      <td>27.76</td>\n",
       "      <td>1.1480</td>\n",
       "      <td>1.70</td>\n",
       "      <td>68.39</td>\n",
       "      <td>48.925</td>\n",
       "      <td>1.0783e+10</td>\n",
       "      <td>-0.2140</td>\n",
       "      <td>-0.4369</td>\n",
       "      <td>-1.2729</td>\n",
       "      <td>-0.7849</td>\n",
       "      <td>32.6</td>\n",
       "    </tr>\n",
       "    <tr>\n",
       "      <th>2</th>\n",
       "      <td>56.27</td>\n",
       "      <td>22.51</td>\n",
       "      <td>1.9090</td>\n",
       "      <td>0.26</td>\n",
       "      <td>64.60</td>\n",
       "      <td>42.280</td>\n",
       "      <td>1.0212e+11</td>\n",
       "      <td>0.1297</td>\n",
       "      <td>-1.1131</td>\n",
       "      <td>-0.6357</td>\n",
       "      <td>-1.0210</td>\n",
       "      <td>29.8</td>\n",
       "    </tr>\n",
       "    <tr>\n",
       "      <th>3</th>\n",
       "      <td>108.48</td>\n",
       "      <td>19.41</td>\n",
       "      <td>2.4996</td>\n",
       "      <td>3.29</td>\n",
       "      <td>125.86</td>\n",
       "      <td>60.050</td>\n",
       "      <td>1.8139e+11</td>\n",
       "      <td>0.1802</td>\n",
       "      <td>-1.1673</td>\n",
       "      <td>-0.7491</td>\n",
       "      <td>1.0102</td>\n",
       "      <td>29.1</td>\n",
       "    </tr>\n",
       "    <tr>\n",
       "      <th>4</th>\n",
       "      <td>150.51</td>\n",
       "      <td>25.47</td>\n",
       "      <td>1.7145</td>\n",
       "      <td>5.44</td>\n",
       "      <td>162.60</td>\n",
       "      <td>114.820</td>\n",
       "      <td>9.8766e+10</td>\n",
       "      <td>0.2285</td>\n",
       "      <td>-0.4749</td>\n",
       "      <td>-0.7828</td>\n",
       "      <td>-2.1630</td>\n",
       "      <td>11.3</td>\n",
       "    </tr>\n",
       "  </tbody>\n",
       "</table>\n",
       "</div>"
      ],
      "text/plain": [
       "    price  price_per_earnings  dividend_yield  earnings_per_share  \\\n",
       "0  222.89               24.31          2.3329                7.92   \n",
       "1   60.24               27.76          1.1480                1.70   \n",
       "2   56.27               22.51          1.9090                0.26   \n",
       "3  108.48               19.41          2.4996                3.29   \n",
       "4  150.51               25.47          1.7145                5.44   \n",
       "\n",
       "   52_week_low  52_week_high  market_cap  vector1  vector2  vector3  vector4  \\\n",
       "0       259.77       175.490  1.3872e+11   0.3047  -1.1492  -0.3533  -2.8370   \n",
       "1        68.39        48.925  1.0783e+10  -0.2140  -0.4369  -1.2729  -0.7849   \n",
       "2        64.60        42.280  1.0212e+11   0.1297  -1.1131  -0.6357  -1.0210   \n",
       "3       125.86        60.050  1.8139e+11   0.1802  -1.1673  -0.7491   1.0102   \n",
       "4       162.60       114.820  9.8766e+10   0.2285  -0.4749  -0.7828  -2.1630   \n",
       "\n",
       "   esg_rating  \n",
       "0        34.9  \n",
       "1        32.6  \n",
       "2        29.8  \n",
       "3        29.1  \n",
       "4        11.3  "
      ]
     },
     "execution_count": 119,
     "metadata": {},
     "output_type": "execute_result"
    }
   ],
   "source": [
    "#columns_fi = ['price', 'price_per_earnings', 'dividend_yield', 'earnings_per_share', '52_week_low', '52_week_high', 'market_cap', 'esg_rating']\n",
    "esg2 = dataset\n",
    "esg2[\"esg_rating\"] = target\n",
    "esg2.head()"
   ]
  },
  {
   "cell_type": "code",
   "execution_count": 120,
   "metadata": {},
   "outputs": [
    {
     "data": {
      "text/plain": [
       "(461, 12)"
      ]
     },
     "execution_count": 120,
     "metadata": {},
     "output_type": "execute_result"
    }
   ],
   "source": [
    "esg2.shape"
   ]
  },
  {
   "cell_type": "code",
   "execution_count": 121,
   "metadata": {},
   "outputs": [
    {
     "data": {
      "text/plain": [
       "RandomForestRegressor(n_jobs=-1)"
      ]
     },
     "execution_count": 121,
     "metadata": {},
     "output_type": "execute_result"
    }
   ],
   "source": [
    "df_train, df_test = train_test_split(esg2, test_size=0.20)\n",
    "\n",
    "X_train_fi, y_train_fi = df_train.drop('esg_rating',axis=1), df_train['esg_rating']\n",
    "X_test_fi, y_test_fi = df_test.drop('esg_rating',axis=1), df_test['esg_rating']\n",
    "esg_model = RandomForestRegressor(n_estimators=100, n_jobs=-1)\n",
    "#esg_model = SVR(C=10, epsilon=2, gamma=0.1)\n",
    "esg_model.fit(X_train_fi, y_train_fi)"
   ]
  },
  {
   "cell_type": "code",
   "execution_count": 122,
   "metadata": {},
   "outputs": [],
   "source": [
    "#!pip install rfpimp\n",
    "import rfpimp\n",
    "imp = rfpimp.importances(esg_model, X_test_fi, y_test_fi)"
   ]
  },
  {
   "cell_type": "code",
   "execution_count": 123,
   "metadata": {},
   "outputs": [
    {
     "data": {
      "image/png": "[encoded data removed]",
      "text/plain": [
       "<Figure size 1440x720 with 1 Axes>"
      ]
     },
     "metadata": {
      "needs_background": "light"
     },
     "output_type": "display_data"
    }
   ],
   "source": [
    "fig, ax = plt.subplots(figsize=(20, 10))\n",
    "SMALL_SIZE = 20\n",
    "MEDIUM_SIZE = 20\n",
    "BIGGER_SIZE = 20\n",
    "\n",
    "plt.rc('font', size=SMALL_SIZE)          # controls default text sizes\n",
    "plt.rc('axes', titlesize=SMALL_SIZE)     # fontsize of the axes title\n",
    "plt.rc('axes', labelsize=MEDIUM_SIZE)    # fontsize of the x and y labels\n",
    "plt.rc('xtick', labelsize=SMALL_SIZE)    # fontsize of the tick labels\n",
    "plt.rc('ytick', labelsize=SMALL_SIZE)    # fontsize of the tick labels\n",
    "plt.rc('legend', fontsize=SMALL_SIZE)    # legend fontsize\n",
    "plt.rc('figure', titlesize=BIGGER_SIZE)  # fontsize of the figure title\n",
    "\n",
    "ax.barh(imp.index, imp['Importance'], height=0.8, facecolor='darkred', alpha=0.8, edgecolor='k')\n",
    "ax.set_xlabel('Importance score')\n",
    "ax.set_title('Permutation feature importance')\n",
    "ax.text(0.8, 0.15, '', fontsize=12, ha='center', va='center',\n",
    "        transform=ax.transAxes, color='grey', alpha=0.9)\n",
    "plt.grid(b=None)\n",
    "plt.gca().invert_yaxis()\n",
    "\n",
    "fig.tight_layout()"
   ]
  },
  {
   "cell_type": "code",
   "execution_count": 124,
   "metadata": {},
   "outputs": [
    {
     "data": {
      "text/plain": [
       "SVR(C=10, epsilon=2, gamma=0.1)"
      ]
     },
     "execution_count": 124,
     "metadata": {},
     "output_type": "execute_result"
    }
   ],
   "source": [
    "df_train, df_test = train_test_split(esg2, test_size=0.20)\n",
    "\n",
    "X_train_fi, y_train_fi = df_train.drop('esg_rating',axis=1), df_train['esg_rating']\n",
    "X_test_fi, y_test_fi = df_test.drop('esg_rating',axis=1), df_test['esg_rating']\n",
    "#esg_model = RandomForestRegressor(n_estimators=100, n_jobs=-1)\n",
    "esg_model = SVR(C=10, epsilon=2, gamma=0.1)\n",
    "esg_model.fit(X_train_fi, y_train_fi)"
   ]
  },
  {
   "cell_type": "code",
   "execution_count": null,
   "metadata": {},
   "outputs": [],
   "source": []
  },
  {
   "cell_type": "code",
   "execution_count": null,
   "metadata": {},
   "outputs": [],
   "source": []
  },
  {
   "cell_type": "code",
   "execution_count": null,
   "metadata": {},
   "outputs": [],
   "source": []
  },
  {
   "cell_type": "code",
   "execution_count": null,
   "metadata": {},
   "outputs": [],
   "source": []
  },
  {
   "cell_type": "code",
   "execution_count": 125,
   "metadata": {},
   "outputs": [
    {
     "data": {
      "text/html": [
       "<div>\n",
       "<style scoped>\n",
       "    .dataframe tbody tr th:only-of-type {\n",
       "        vertical-align: middle;\n",
       "    }\n",
       "\n",
       "    .dataframe tbody tr th {\n",
       "        vertical-align: top;\n",
       "    }\n",
       "\n",
       "    .dataframe thead th {\n",
       "        text-align: right;\n",
       "    }\n",
       "</style>\n",
       "<table border=\"1\" class=\"dataframe\">\n",
       "  <thead>\n",
       "    <tr style=\"text-align: right;\">\n",
       "      <th></th>\n",
       "      <th>price</th>\n",
       "      <th>price_per_earnings</th>\n",
       "      <th>dividend_yield</th>\n",
       "      <th>earnings_per_share</th>\n",
       "      <th>52_week_low</th>\n",
       "      <th>52_week_high</th>\n",
       "      <th>market_cap</th>\n",
       "      <th>vector1</th>\n",
       "      <th>vector2</th>\n",
       "      <th>vector3</th>\n",
       "      <th>vector4</th>\n",
       "    </tr>\n",
       "  </thead>\n",
       "  <tbody>\n",
       "    <tr>\n",
       "      <th>157</th>\n",
       "      <td>74.32</td>\n",
       "      <td>16.70</td>\n",
       "      <td>4.7849</td>\n",
       "      <td>3.12</td>\n",
       "      <td>91.8000</td>\n",
       "      <td>72.9300</td>\n",
       "      <td>5.2078e+10</td>\n",
       "      <td>3.5890</td>\n",
       "      <td>-1.4153</td>\n",
       "      <td>2.4423</td>\n",
       "      <td>-1.0767</td>\n",
       "    </tr>\n",
       "    <tr>\n",
       "      <th>207</th>\n",
       "      <td>114.26</td>\n",
       "      <td>36.86</td>\n",
       "      <td>0.0000</td>\n",
       "      <td>2.31</td>\n",
       "      <td>142.1600</td>\n",
       "      <td>97.9600</td>\n",
       "      <td>1.0828e+10</td>\n",
       "      <td>0.2481</td>\n",
       "      <td>-0.7059</td>\n",
       "      <td>-0.7247</td>\n",
       "      <td>-0.8555</td>\n",
       "    </tr>\n",
       "    <tr>\n",
       "      <th>34</th>\n",
       "      <td>88.34</td>\n",
       "      <td>15.00</td>\n",
       "      <td>1.4956</td>\n",
       "      <td>2.90</td>\n",
       "      <td>102.3850</td>\n",
       "      <td>75.5100</td>\n",
       "      <td>8.0411e+10</td>\n",
       "      <td>0.1265</td>\n",
       "      <td>-0.1259</td>\n",
       "      <td>-1.0486</td>\n",
       "      <td>-1.6908</td>\n",
       "    </tr>\n",
       "    <tr>\n",
       "      <th>137</th>\n",
       "      <td>44.55</td>\n",
       "      <td>16.32</td>\n",
       "      <td>1.0801</td>\n",
       "      <td>2.73</td>\n",
       "      <td>53.3200</td>\n",
       "      <td>29.3716</td>\n",
       "      <td>1.7391e+10</td>\n",
       "      <td>0.0268</td>\n",
       "      <td>-0.6970</td>\n",
       "      <td>-1.2261</td>\n",
       "      <td>2.1158</td>\n",
       "    </tr>\n",
       "    <tr>\n",
       "      <th>127</th>\n",
       "      <td>74.73</td>\n",
       "      <td>18.64</td>\n",
       "      <td>3.8002</td>\n",
       "      <td>4.10</td>\n",
       "      <td>89.7000</td>\n",
       "      <td>72.6300</td>\n",
       "      <td>2.3336e+10</td>\n",
       "      <td>3.6355</td>\n",
       "      <td>-1.6120</td>\n",
       "      <td>2.5402</td>\n",
       "      <td>-1.1252</td>\n",
       "    </tr>\n",
       "    <tr>\n",
       "      <th>...</th>\n",
       "      <td>...</td>\n",
       "      <td>...</td>\n",
       "      <td>...</td>\n",
       "      <td>...</td>\n",
       "      <td>...</td>\n",
       "      <td>...</td>\n",
       "      <td>...</td>\n",
       "      <td>...</td>\n",
       "      <td>...</td>\n",
       "      <td>...</td>\n",
       "      <td>...</td>\n",
       "    </tr>\n",
       "    <tr>\n",
       "      <th>82</th>\n",
       "      <td>63.33</td>\n",
       "      <td>37.04</td>\n",
       "      <td>1.1217</td>\n",
       "      <td>1.70</td>\n",
       "      <td>69.9028</td>\n",
       "      <td>45.4150</td>\n",
       "      <td>5.4980e+09</td>\n",
       "      <td>1.0109</td>\n",
       "      <td>-0.9642</td>\n",
       "      <td>0.0925</td>\n",
       "      <td>-1.1724</td>\n",
       "    </tr>\n",
       "    <tr>\n",
       "      <th>397</th>\n",
       "      <td>178.73</td>\n",
       "      <td>26.48</td>\n",
       "      <td>1.7693</td>\n",
       "      <td>6.35</td>\n",
       "      <td>210.7200</td>\n",
       "      <td>147.6700</td>\n",
       "      <td>2.4123e+10</td>\n",
       "      <td>0.1035</td>\n",
       "      <td>0.2323</td>\n",
       "      <td>-1.2943</td>\n",
       "      <td>-1.0538</td>\n",
       "    </tr>\n",
       "    <tr>\n",
       "      <th>60</th>\n",
       "      <td>108.25</td>\n",
       "      <td>29.34</td>\n",
       "      <td>2.2191</td>\n",
       "      <td>3.85</td>\n",
       "      <td>125.2400</td>\n",
       "      <td>95.5000</td>\n",
       "      <td>5.0338e+10</td>\n",
       "      <td>0.1372</td>\n",
       "      <td>-1.1860</td>\n",
       "      <td>-0.5288</td>\n",
       "      <td>-2.2191</td>\n",
       "    </tr>\n",
       "    <tr>\n",
       "      <th>109</th>\n",
       "      <td>189.27</td>\n",
       "      <td>18.11</td>\n",
       "      <td>0.0205</td>\n",
       "      <td>7.20</td>\n",
       "      <td>227.1300</td>\n",
       "      <td>141.9300</td>\n",
       "      <td>4.7681e+10</td>\n",
       "      <td>0.2241</td>\n",
       "      <td>-0.6737</td>\n",
       "      <td>-0.8999</td>\n",
       "      <td>0.7819</td>\n",
       "    </tr>\n",
       "    <tr>\n",
       "      <th>142</th>\n",
       "      <td>51.23</td>\n",
       "      <td>10.37</td>\n",
       "      <td>2.2656</td>\n",
       "      <td>4.94</td>\n",
       "      <td>60.7900</td>\n",
       "      <td>43.8100</td>\n",
       "      <td>3.8394e+10</td>\n",
       "      <td>-0.6820</td>\n",
       "      <td>-0.8059</td>\n",
       "      <td>-1.8564</td>\n",
       "      <td>2.4306</td>\n",
       "    </tr>\n",
       "  </tbody>\n",
       "</table>\n",
       "<p>93 rows × 11 columns</p>\n",
       "</div>"
      ],
      "text/plain": [
       "      price  price_per_earnings  dividend_yield  earnings_per_share  \\\n",
       "157   74.32               16.70          4.7849                3.12   \n",
       "207  114.26               36.86          0.0000                2.31   \n",
       "34    88.34               15.00          1.4956                2.90   \n",
       "137   44.55               16.32          1.0801                2.73   \n",
       "127   74.73               18.64          3.8002                4.10   \n",
       "..      ...                 ...             ...                 ...   \n",
       "82    63.33               37.04          1.1217                1.70   \n",
       "397  178.73               26.48          1.7693                6.35   \n",
       "60   108.25               29.34          2.2191                3.85   \n",
       "109  189.27               18.11          0.0205                7.20   \n",
       "142   51.23               10.37          2.2656                4.94   \n",
       "\n",
       "     52_week_low  52_week_high  market_cap  vector1  vector2  vector3  vector4  \n",
       "157      91.8000       72.9300  5.2078e+10   3.5890  -1.4153   2.4423  -1.0767  \n",
       "207     142.1600       97.9600  1.0828e+10   0.2481  -0.7059  -0.7247  -0.8555  \n",
       "34      102.3850       75.5100  8.0411e+10   0.1265  -0.1259  -1.0486  -1.6908  \n",
       "137      53.3200       29.3716  1.7391e+10   0.0268  -0.6970  -1.2261   2.1158  \n",
       "127      89.7000       72.6300  2.3336e+10   3.6355  -1.6120   2.5402  -1.1252  \n",
       "..           ...           ...         ...      ...      ...      ...      ...  \n",
       "82       69.9028       45.4150  5.4980e+09   1.0109  -0.9642   0.0925  -1.1724  \n",
       "397     210.7200      147.6700  2.4123e+10   0.1035   0.2323  -1.2943  -1.0538  \n",
       "60      125.2400       95.5000  5.0338e+10   0.1372  -1.1860  -0.5288  -2.2191  \n",
       "109     227.1300      141.9300  4.7681e+10   0.2241  -0.6737  -0.8999   0.7819  \n",
       "142      60.7900       43.8100  3.8394e+10  -0.6820  -0.8059  -1.8564   2.4306  \n",
       "\n",
       "[93 rows x 11 columns]"
      ]
     },
     "execution_count": 125,
     "metadata": {},
     "output_type": "execute_result"
    }
   ],
   "source": [
    "X_test_fi"
   ]
  },
  {
   "cell_type": "code",
   "execution_count": 126,
   "metadata": {
    "scrolled": true
   },
   "outputs": [
    {
     "ename": "KeyError",
     "evalue": "\"['esg_rating'] not in index\"",
     "output_type": "error",
     "traceback": [
      "\u001b[0;31m---------------------------------------------------------------------------\u001b[0m",
      "\u001b[0;31mKeyError\u001b[0m                                  Traceback (most recent call last)",
      "\u001b[0;32m<ipython-input-126-0a7a66ab4a48>\u001b[0m in \u001b[0;36m<module>\u001b[0;34m\u001b[0m\n\u001b[1;32m      2\u001b[0m        \u001b[0;34m'52_week_low'\u001b[0m\u001b[0;34m,\u001b[0m \u001b[0;34m'52_week_high'\u001b[0m\u001b[0;34m,\u001b[0m \u001b[0;34m'market_cap'\u001b[0m\u001b[0;34m,\u001b[0m \u001b[0;34m'vector1'\u001b[0m\u001b[0;34m,\u001b[0m \u001b[0;34m'vector2'\u001b[0m\u001b[0;34m,\u001b[0m\u001b[0;34m\u001b[0m\u001b[0;34m\u001b[0m\u001b[0m\n\u001b[1;32m      3\u001b[0m        'vector3', 'vector4', 'esg_rating']\n\u001b[0;32m----> 4\u001b[0;31m esg2 = esg[['price', 'price_per_earnings', 'dividend_yield', 'earnings_per_share',\n\u001b[0m\u001b[1;32m      5\u001b[0m        \u001b[0;34m'52_week_low'\u001b[0m\u001b[0;34m,\u001b[0m \u001b[0;34m'52_week_high'\u001b[0m\u001b[0;34m,\u001b[0m \u001b[0;34m'market_cap'\u001b[0m\u001b[0;34m,\u001b[0m \u001b[0;34m'vector1'\u001b[0m\u001b[0;34m,\u001b[0m \u001b[0;34m'vector2'\u001b[0m\u001b[0;34m,\u001b[0m\u001b[0;34m\u001b[0m\u001b[0;34m\u001b[0m\u001b[0m\n\u001b[1;32m      6\u001b[0m        'vector3', 'vector4', 'esg_rating']]\n",
      "\u001b[0;32m~/opt/anaconda3/lib/python3.8/site-packages/pandas/core/frame.py\u001b[0m in \u001b[0;36m__getitem__\u001b[0;34m(self, key)\u001b[0m\n\u001b[1;32m   2804\u001b[0m             \u001b[0;32mif\u001b[0m \u001b[0mis_iterator\u001b[0m\u001b[0;34m(\u001b[0m\u001b[0mkey\u001b[0m\u001b[0;34m)\u001b[0m\u001b[0;34m:\u001b[0m\u001b[0;34m\u001b[0m\u001b[0;34m\u001b[0m\u001b[0m\n\u001b[1;32m   2805\u001b[0m                 \u001b[0mkey\u001b[0m \u001b[0;34m=\u001b[0m \u001b[0mlist\u001b[0m\u001b[0;34m(\u001b[0m\u001b[0mkey\u001b[0m\u001b[0;34m)\u001b[0m\u001b[0;34m\u001b[0m\u001b[0;34m\u001b[0m\u001b[0m\n\u001b[0;32m-> 2806\u001b[0;31m             \u001b[0mindexer\u001b[0m \u001b[0;34m=\u001b[0m \u001b[0mself\u001b[0m\u001b[0;34m.\u001b[0m\u001b[0mloc\u001b[0m\u001b[0;34m.\u001b[0m\u001b[0m_get_listlike_indexer\u001b[0m\u001b[0;34m(\u001b[0m\u001b[0mkey\u001b[0m\u001b[0;34m,\u001b[0m \u001b[0maxis\u001b[0m\u001b[0;34m=\u001b[0m\u001b[0;36m1\u001b[0m\u001b[0;34m,\u001b[0m \u001b[0mraise_missing\u001b[0m\u001b[0;34m=\u001b[0m\u001b[0;32mTrue\u001b[0m\u001b[0;34m)\u001b[0m\u001b[0;34m[\u001b[0m\u001b[0;36m1\u001b[0m\u001b[0;34m]\u001b[0m\u001b[0;34m\u001b[0m\u001b[0;34m\u001b[0m\u001b[0m\n\u001b[0m\u001b[1;32m   2807\u001b[0m \u001b[0;34m\u001b[0m\u001b[0m\n\u001b[1;32m   2808\u001b[0m         \u001b[0;31m# take() does not accept boolean indexers\u001b[0m\u001b[0;34m\u001b[0m\u001b[0;34m\u001b[0m\u001b[0;34m\u001b[0m\u001b[0m\n",
      "\u001b[0;32m~/opt/anaconda3/lib/python3.8/site-packages/pandas/core/indexing.py\u001b[0m in \u001b[0;36m_get_listlike_indexer\u001b[0;34m(self, key, axis, raise_missing)\u001b[0m\n\u001b[1;32m   1550\u001b[0m             \u001b[0mkeyarr\u001b[0m\u001b[0;34m,\u001b[0m \u001b[0mindexer\u001b[0m\u001b[0;34m,\u001b[0m \u001b[0mnew_indexer\u001b[0m \u001b[0;34m=\u001b[0m \u001b[0max\u001b[0m\u001b[0;34m.\u001b[0m\u001b[0m_reindex_non_unique\u001b[0m\u001b[0;34m(\u001b[0m\u001b[0mkeyarr\u001b[0m\u001b[0;34m)\u001b[0m\u001b[0;34m\u001b[0m\u001b[0;34m\u001b[0m\u001b[0m\n\u001b[1;32m   1551\u001b[0m \u001b[0;34m\u001b[0m\u001b[0m\n\u001b[0;32m-> 1552\u001b[0;31m         self._validate_read_indexer(\n\u001b[0m\u001b[1;32m   1553\u001b[0m             \u001b[0mkeyarr\u001b[0m\u001b[0;34m,\u001b[0m \u001b[0mindexer\u001b[0m\u001b[0;34m,\u001b[0m \u001b[0mo\u001b[0m\u001b[0;34m.\u001b[0m\u001b[0m_get_axis_number\u001b[0m\u001b[0;34m(\u001b[0m\u001b[0maxis\u001b[0m\u001b[0;34m)\u001b[0m\u001b[0;34m,\u001b[0m \u001b[0mraise_missing\u001b[0m\u001b[0;34m=\u001b[0m\u001b[0mraise_missing\u001b[0m\u001b[0;34m\u001b[0m\u001b[0;34m\u001b[0m\u001b[0m\n\u001b[1;32m   1554\u001b[0m         )\n",
      "\u001b[0;32m~/opt/anaconda3/lib/python3.8/site-packages/pandas/core/indexing.py\u001b[0m in \u001b[0;36m_validate_read_indexer\u001b[0;34m(self, key, indexer, axis, raise_missing)\u001b[0m\n\u001b[1;32m   1644\u001b[0m             \u001b[0;32mif\u001b[0m \u001b[0;32mnot\u001b[0m \u001b[0;34m(\u001b[0m\u001b[0mself\u001b[0m\u001b[0;34m.\u001b[0m\u001b[0mname\u001b[0m \u001b[0;34m==\u001b[0m \u001b[0;34m\"loc\"\u001b[0m \u001b[0;32mand\u001b[0m \u001b[0;32mnot\u001b[0m \u001b[0mraise_missing\u001b[0m\u001b[0;34m)\u001b[0m\u001b[0;34m:\u001b[0m\u001b[0;34m\u001b[0m\u001b[0;34m\u001b[0m\u001b[0m\n\u001b[1;32m   1645\u001b[0m                 \u001b[0mnot_found\u001b[0m \u001b[0;34m=\u001b[0m \u001b[0mlist\u001b[0m\u001b[0;34m(\u001b[0m\u001b[0mset\u001b[0m\u001b[0;34m(\u001b[0m\u001b[0mkey\u001b[0m\u001b[0;34m)\u001b[0m \u001b[0;34m-\u001b[0m \u001b[0mset\u001b[0m\u001b[0;34m(\u001b[0m\u001b[0max\u001b[0m\u001b[0;34m)\u001b[0m\u001b[0;34m)\u001b[0m\u001b[0;34m\u001b[0m\u001b[0;34m\u001b[0m\u001b[0m\n\u001b[0;32m-> 1646\u001b[0;31m                 \u001b[0;32mraise\u001b[0m \u001b[0mKeyError\u001b[0m\u001b[0;34m(\u001b[0m\u001b[0;34mf\"{not_found} not in index\"\u001b[0m\u001b[0;34m)\u001b[0m\u001b[0;34m\u001b[0m\u001b[0;34m\u001b[0m\u001b[0m\n\u001b[0m\u001b[1;32m   1647\u001b[0m \u001b[0;34m\u001b[0m\u001b[0m\n\u001b[1;32m   1648\u001b[0m             \u001b[0;31m# we skip the warning on Categorical/Interval\u001b[0m\u001b[0;34m\u001b[0m\u001b[0;34m\u001b[0m\u001b[0;34m\u001b[0m\u001b[0m\n",
      "\u001b[0;31mKeyError\u001b[0m: \"['esg_rating'] not in index\""
     ]
    }
   ],
   "source": [
    "esg2_columns = ['price', 'price_per_earnings', 'dividend_yield', 'earnings_per_share',\n",
    "       '52_week_low', '52_week_high', 'market_cap', 'vector1', 'vector2',\n",
    "       'vector3', 'vector4', 'esg_rating']\n",
    "esg2 = esg[['price', 'price_per_earnings', 'dividend_yield', 'earnings_per_share',\n",
    "       '52_week_low', '52_week_high', 'market_cap', 'vector1', 'vector2',\n",
    "       'vector3', 'vector4', 'esg_rating']]\n",
    "print(esg2.shape)\n",
    "esg2.head()"
   ]
  },
  {
   "cell_type": "code",
   "execution_count": 396,
   "metadata": {},
   "outputs": [],
   "source": [
    "features = ['vector4']\n",
    "features2 = ['earnings_per_share']\n",
    "target = 'esg_rating'\n",
    "X2 = esg2[features].values.reshape(-1, len(features))\n",
    "X3 = esg2[features2].values.reshape(-1, len(features2))\n",
    "Y2 = esg2[target].values\n",
    "\n",
    "x_pred = np.linspace(0, 40, 200).reshape(-1, len(features)) # prediction line\n",
    "x_pred3 = np.linspace(0, 40, 200).reshape(-1, len(features2)) # prediction line"
   ]
  },
  {
   "cell_type": "code",
   "execution_count": 95,
   "metadata": {},
   "outputs": [
    {
     "ename": "NameError",
     "evalue": "name 'X2' is not defined",
     "output_type": "error",
     "traceback": [
      "\u001b[0;31m---------------------------------------------------------------------------\u001b[0m",
      "\u001b[0;31mNameError\u001b[0m                                 Traceback (most recent call last)",
      "\u001b[0;32m<ipython-input-95-5d3a462151fa>\u001b[0m in \u001b[0;36m<module>\u001b[0;34m\u001b[0m\n\u001b[1;32m      2\u001b[0m \u001b[0;34m\u001b[0m\u001b[0m\n\u001b[1;32m      3\u001b[0m \u001b[0mols_1\u001b[0m \u001b[0;34m=\u001b[0m \u001b[0mlinear_model\u001b[0m\u001b[0;34m.\u001b[0m\u001b[0mLinearRegression\u001b[0m\u001b[0;34m(\u001b[0m\u001b[0;34m)\u001b[0m\u001b[0;34m\u001b[0m\u001b[0;34m\u001b[0m\u001b[0m\n\u001b[0;32m----> 4\u001b[0;31m \u001b[0mmodel_1\u001b[0m \u001b[0;34m=\u001b[0m \u001b[0mols_1\u001b[0m\u001b[0;34m.\u001b[0m\u001b[0mfit\u001b[0m\u001b[0;34m(\u001b[0m\u001b[0mX2\u001b[0m\u001b[0;34m,\u001b[0m \u001b[0mY2\u001b[0m\u001b[0;34m)\u001b[0m\u001b[0;34m\u001b[0m\u001b[0;34m\u001b[0m\u001b[0m\n\u001b[0m\u001b[1;32m      5\u001b[0m \u001b[0mresponse_1\u001b[0m \u001b[0;34m=\u001b[0m \u001b[0mmodel_1\u001b[0m\u001b[0;34m.\u001b[0m\u001b[0mpredict\u001b[0m\u001b[0;34m(\u001b[0m\u001b[0mx_pred\u001b[0m\u001b[0;34m)\u001b[0m\u001b[0;34m\u001b[0m\u001b[0;34m\u001b[0m\u001b[0m\n",
      "\u001b[0;31mNameError\u001b[0m: name 'X2' is not defined"
     ]
    }
   ],
   "source": [
    "from sklearn import linear_model\n",
    "\n",
    "ols_1 = linear_model.LinearRegression()\n",
    "model_1 = ols_1.fit(X2, Y2)\n",
    "response_1 = model_1.predict(x_pred)"
   ]
  },
  {
   "cell_type": "code",
   "execution_count": 94,
   "metadata": {},
   "outputs": [
    {
     "ename": "NameError",
     "evalue": "name 'ols_1' is not defined",
     "output_type": "error",
     "traceback": [
      "\u001b[0;31m---------------------------------------------------------------------------\u001b[0m",
      "\u001b[0;31mNameError\u001b[0m                                 Traceback (most recent call last)",
      "\u001b[0;32m<ipython-input-94-c1a54c210fbb>\u001b[0m in \u001b[0;36m<module>\u001b[0;34m\u001b[0m\n\u001b[0;32m----> 1\u001b[0;31m \u001b[0mmodel_2\u001b[0m \u001b[0;34m=\u001b[0m \u001b[0mols_1\u001b[0m\u001b[0;34m.\u001b[0m\u001b[0mfit\u001b[0m\u001b[0;34m(\u001b[0m\u001b[0mX3\u001b[0m\u001b[0;34m,\u001b[0m \u001b[0mY2\u001b[0m\u001b[0;34m)\u001b[0m\u001b[0;34m\u001b[0m\u001b[0;34m\u001b[0m\u001b[0m\n\u001b[0m\u001b[1;32m      2\u001b[0m \u001b[0mresponse_2\u001b[0m \u001b[0;34m=\u001b[0m \u001b[0mmodel_2\u001b[0m\u001b[0;34m.\u001b[0m\u001b[0mpredict\u001b[0m\u001b[0;34m(\u001b[0m\u001b[0mx_pred3\u001b[0m\u001b[0;34m)\u001b[0m\u001b[0;34m\u001b[0m\u001b[0;34m\u001b[0m\u001b[0m\n",
      "\u001b[0;31mNameError\u001b[0m: name 'ols_1' is not defined"
     ]
    }
   ],
   "source": [
    "model_2 = ols_1.fit(X3, Y2)\n",
    "response_2 = model_2.predict(x_pred3)"
   ]
  },
  {
   "cell_type": "code",
   "execution_count": 127,
   "metadata": {},
   "outputs": [
    {
     "ename": "NameError",
     "evalue": "name 'x_pred' is not defined",
     "output_type": "error",
     "traceback": [
      "\u001b[0;31m---------------------------------------------------------------------------\u001b[0m",
      "\u001b[0;31mNameError\u001b[0m                                 Traceback (most recent call last)",
      "\u001b[0;32m<ipython-input-127-75bb5fbe7b5e>\u001b[0m in \u001b[0;36m<module>\u001b[0;34m\u001b[0m\n\u001b[1;32m      5\u001b[0m \u001b[0mfig\u001b[0m\u001b[0;34m.\u001b[0m\u001b[0msuptitle\u001b[0m\u001b[0;34m(\u001b[0m\u001b[0;34m'Effect of Stock2vec vectors'\u001b[0m\u001b[0;34m,\u001b[0m \u001b[0mfontsize\u001b[0m\u001b[0;34m=\u001b[0m\u001b[0;36m15\u001b[0m\u001b[0;34m)\u001b[0m\u001b[0;34m\u001b[0m\u001b[0;34m\u001b[0m\u001b[0m\n\u001b[1;32m      6\u001b[0m \u001b[0;34m\u001b[0m\u001b[0m\n\u001b[0;32m----> 7\u001b[0;31m \u001b[0maxes\u001b[0m\u001b[0;34m[\u001b[0m\u001b[0;36m0\u001b[0m\u001b[0;34m]\u001b[0m\u001b[0;34m.\u001b[0m\u001b[0mplot\u001b[0m\u001b[0;34m(\u001b[0m\u001b[0mx_pred\u001b[0m\u001b[0;34m,\u001b[0m \u001b[0mresponse_1\u001b[0m\u001b[0;34m,\u001b[0m \u001b[0mcolor\u001b[0m\u001b[0;34m=\u001b[0m\u001b[0;34m'k'\u001b[0m\u001b[0;34m,\u001b[0m \u001b[0mlabel\u001b[0m\u001b[0;34m=\u001b[0m\u001b[0;34m'Regression model'\u001b[0m\u001b[0;34m)\u001b[0m\u001b[0;34m\u001b[0m\u001b[0;34m\u001b[0m\u001b[0m\n\u001b[0m\u001b[1;32m      8\u001b[0m \u001b[0maxes\u001b[0m\u001b[0;34m[\u001b[0m\u001b[0;36m0\u001b[0m\u001b[0;34m]\u001b[0m\u001b[0;34m.\u001b[0m\u001b[0mscatter\u001b[0m\u001b[0;34m(\u001b[0m\u001b[0mX2\u001b[0m\u001b[0;34m,\u001b[0m \u001b[0mY2\u001b[0m\u001b[0;34m,\u001b[0m \u001b[0medgecolor\u001b[0m\u001b[0;34m=\u001b[0m\u001b[0;34m'k'\u001b[0m\u001b[0;34m,\u001b[0m \u001b[0mfacecolor\u001b[0m\u001b[0;34m=\u001b[0m\u001b[0;34m'red'\u001b[0m\u001b[0;34m,\u001b[0m \u001b[0malpha\u001b[0m\u001b[0;34m=\u001b[0m\u001b[0;36m0.7\u001b[0m\u001b[0;34m,\u001b[0m \u001b[0mlabel\u001b[0m\u001b[0;34m=\u001b[0m\u001b[0;34m'ESG data'\u001b[0m\u001b[0;34m)\u001b[0m\u001b[0;34m\u001b[0m\u001b[0;34m\u001b[0m\u001b[0m\n\u001b[1;32m      9\u001b[0m \u001b[0maxes\u001b[0m\u001b[0;34m[\u001b[0m\u001b[0;36m0\u001b[0m\u001b[0;34m]\u001b[0m\u001b[0;34m.\u001b[0m\u001b[0mset_ylabel\u001b[0m\u001b[0;34m(\u001b[0m\u001b[0;34m'ESG rating'\u001b[0m\u001b[0;34m,\u001b[0m \u001b[0mfontsize\u001b[0m\u001b[0;34m=\u001b[0m\u001b[0;36m14\u001b[0m\u001b[0;34m)\u001b[0m\u001b[0;34m\u001b[0m\u001b[0;34m\u001b[0m\u001b[0m\n",
      "\u001b[0;31mNameError\u001b[0m: name 'x_pred' is not defined"
     ]
    },
    {
     "data": {
      "image/png": "[encoded data removed]",
      "text/plain": [
       "<Figure size 1000x400 with 2 Axes>"
      ]
     },
     "metadata": {},
     "output_type": "display_data"
    }
   ],
   "source": [
    "plt.style.use('default')\n",
    "plt.style.use('ggplot')\n",
    "\n",
    "fig, axes = plt.subplots(1, 2, figsize=(10, 4))\n",
    "fig.suptitle('Effect of Stock2vec vectors', fontsize=15)\n",
    "\n",
    "axes[0].plot(x_pred, response_1, color='k', label='Regression model')\n",
    "axes[0].scatter(X2, Y2, edgecolor='k', facecolor='red', alpha=0.7, label='ESG data')\n",
    "axes[0].set_ylabel('ESG rating', fontsize=14)\n",
    "axes[0].set_xlabel('Vector1', fontsize=14)\n",
    "axes[0].legend(facecolor='white', fontsize=11, loc='best')\n",
    "axes[0].set_ylim(0, 60)\n",
    "axes[0].set_xlim(0, 4)\n",
    "axes[0].text(0.47, 0.15, '$y = %.1f x_1 + %.1f $' % (model_1.coef_[0], model_1.intercept_),\n",
    "             fontsize=12, transform=axes[0].transAxes)\n",
    "axes[0].text(0.77, 0.3, '', fontsize=10, ha='center', va='center',\n",
    "         transform=axes[0].transAxes, color='red', alpha=0.5)\n",
    "\n",
    "axes[1].plot(x_pred3, response_2, color='k', label='Regression model')\n",
    "axes[1].scatter(X3, Y2, edgecolor='k', facecolor='red', alpha=0.7, label='ESG Data')\n",
    "axes[1].set_ylabel('ESG rating', fontsize=14)\n",
    "axes[1].set_xlabel('Earnings per share', fontsize=14)\n",
    "axes[1].legend(facecolor='white', fontsize=11, loc='best')\n",
    "axes[1].set_ylim(0, 60)\n",
    "axes[1].set_xlim(0, 20)\n",
    "axes[1].text(0.55, 0.15, '$y = %.1f x_1 + %.1f $' % (model_2.coef_[0], model_2.intercept_),\n",
    "             fontsize=12, transform=axes[1].transAxes)\n",
    "axes[1].text(0.77, 0.3, '', fontsize=10, ha='center', va='center',\n",
    "         transform=axes[1].transAxes, color='red', alpha=0.5)\n",
    "\n",
    "fig.tight_layout(rect=[0, 0, 1, 0.94])"
   ]
  },
  {
   "cell_type": "code",
   "execution_count": 412,
   "metadata": {},
   "outputs": [
    {
     "data": {
      "text/plain": [
       "array([0.033, 0.057, 0.09 , 0.067, 0.021, 0.036, 0.037, 0.099, 0.255,\n",
       "       0.063, 0.242])"
      ]
     },
     "execution_count": 412,
     "metadata": {},
     "output_type": "execute_result"
    }
   ],
   "source": [
    "esg_model.feature_importances_"
   ]
  },
  {
   "cell_type": "code",
   "execution_count": 426,
   "metadata": {},
   "outputs": [
    {
     "data": {
      "text/html": [
       "<div>\n",
       "<style scoped>\n",
       "    .dataframe tbody tr th:only-of-type {\n",
       "        vertical-align: middle;\n",
       "    }\n",
       "\n",
       "    .dataframe tbody tr th {\n",
       "        vertical-align: top;\n",
       "    }\n",
       "\n",
       "    .dataframe thead th {\n",
       "        text-align: right;\n",
       "    }\n",
       "</style>\n",
       "<table border=\"1\" class=\"dataframe\">\n",
       "  <thead>\n",
       "    <tr style=\"text-align: right;\">\n",
       "      <th></th>\n",
       "      <th>price</th>\n",
       "      <th>price_per_earnings</th>\n",
       "      <th>dividend_yield</th>\n",
       "      <th>earnings_per_share</th>\n",
       "      <th>52_week_low</th>\n",
       "      <th>52_week_high</th>\n",
       "      <th>market_cap</th>\n",
       "      <th>vector1</th>\n",
       "      <th>vector2</th>\n",
       "      <th>vector3</th>\n",
       "      <th>vector4</th>\n",
       "    </tr>\n",
       "  </thead>\n",
       "  <tbody>\n",
       "    <tr>\n",
       "      <th>0</th>\n",
       "      <td>222.89</td>\n",
       "      <td>24.31</td>\n",
       "      <td>2.3329</td>\n",
       "      <td>7.92</td>\n",
       "      <td>259.77</td>\n",
       "      <td>175.490</td>\n",
       "      <td>1.3872e+11</td>\n",
       "      <td>0.3047</td>\n",
       "      <td>-1.1492</td>\n",
       "      <td>-0.3533</td>\n",
       "      <td>-2.8370</td>\n",
       "    </tr>\n",
       "    <tr>\n",
       "      <th>1</th>\n",
       "      <td>60.24</td>\n",
       "      <td>27.76</td>\n",
       "      <td>1.1480</td>\n",
       "      <td>1.70</td>\n",
       "      <td>68.39</td>\n",
       "      <td>48.925</td>\n",
       "      <td>1.0783e+10</td>\n",
       "      <td>-0.2140</td>\n",
       "      <td>-0.4369</td>\n",
       "      <td>-1.2729</td>\n",
       "      <td>-0.7849</td>\n",
       "    </tr>\n",
       "    <tr>\n",
       "      <th>2</th>\n",
       "      <td>56.27</td>\n",
       "      <td>22.51</td>\n",
       "      <td>1.9090</td>\n",
       "      <td>0.26</td>\n",
       "      <td>64.60</td>\n",
       "      <td>42.280</td>\n",
       "      <td>1.0212e+11</td>\n",
       "      <td>0.1297</td>\n",
       "      <td>-1.1131</td>\n",
       "      <td>-0.6357</td>\n",
       "      <td>-1.0210</td>\n",
       "    </tr>\n",
       "    <tr>\n",
       "      <th>3</th>\n",
       "      <td>108.48</td>\n",
       "      <td>19.41</td>\n",
       "      <td>2.4996</td>\n",
       "      <td>3.29</td>\n",
       "      <td>125.86</td>\n",
       "      <td>60.050</td>\n",
       "      <td>1.8139e+11</td>\n",
       "      <td>0.1802</td>\n",
       "      <td>-1.1673</td>\n",
       "      <td>-0.7491</td>\n",
       "      <td>1.0102</td>\n",
       "    </tr>\n",
       "    <tr>\n",
       "      <th>4</th>\n",
       "      <td>150.51</td>\n",
       "      <td>25.47</td>\n",
       "      <td>1.7145</td>\n",
       "      <td>5.44</td>\n",
       "      <td>162.60</td>\n",
       "      <td>114.820</td>\n",
       "      <td>9.8766e+10</td>\n",
       "      <td>0.2285</td>\n",
       "      <td>-0.4749</td>\n",
       "      <td>-0.7828</td>\n",
       "      <td>-2.1630</td>\n",
       "    </tr>\n",
       "    <tr>\n",
       "      <th>...</th>\n",
       "      <td>...</td>\n",
       "      <td>...</td>\n",
       "      <td>...</td>\n",
       "      <td>...</td>\n",
       "      <td>...</td>\n",
       "      <td>...</td>\n",
       "      <td>...</td>\n",
       "      <td>...</td>\n",
       "      <td>...</td>\n",
       "      <td>...</td>\n",
       "      <td>...</td>\n",
       "    </tr>\n",
       "    <tr>\n",
       "      <th>500</th>\n",
       "      <td>70.24</td>\n",
       "      <td>30.94</td>\n",
       "      <td>1.1701</td>\n",
       "      <td>1.83</td>\n",
       "      <td>76.81</td>\n",
       "      <td>46.860</td>\n",
       "      <td>1.2915e+10</td>\n",
       "      <td>0.1740</td>\n",
       "      <td>-0.2190</td>\n",
       "      <td>-1.0229</td>\n",
       "      <td>-0.6488</td>\n",
       "    </tr>\n",
       "    <tr>\n",
       "      <th>501</th>\n",
       "      <td>76.30</td>\n",
       "      <td>27.25</td>\n",
       "      <td>1.7971</td>\n",
       "      <td>4.07</td>\n",
       "      <td>86.93</td>\n",
       "      <td>62.850</td>\n",
       "      <td>2.7003e+10</td>\n",
       "      <td>0.2349</td>\n",
       "      <td>-1.1265</td>\n",
       "      <td>-0.5574</td>\n",
       "      <td>-0.6951</td>\n",
       "    </tr>\n",
       "    <tr>\n",
       "      <th>502</th>\n",
       "      <td>115.53</td>\n",
       "      <td>14.32</td>\n",
       "      <td>0.7948</td>\n",
       "      <td>9.01</td>\n",
       "      <td>133.49</td>\n",
       "      <td>108.170</td>\n",
       "      <td>2.4455e+10</td>\n",
       "      <td>-0.0466</td>\n",
       "      <td>-1.1366</td>\n",
       "      <td>-0.7960</td>\n",
       "      <td>-1.0415</td>\n",
       "    </tr>\n",
       "    <tr>\n",
       "      <th>503</th>\n",
       "      <td>50.71</td>\n",
       "      <td>17.73</td>\n",
       "      <td>1.4809</td>\n",
       "      <td>2.60</td>\n",
       "      <td>55.61</td>\n",
       "      <td>38.430</td>\n",
       "      <td>1.0671e+10</td>\n",
       "      <td>-0.6403</td>\n",
       "      <td>1.7668</td>\n",
       "      <td>-2.7968</td>\n",
       "      <td>-0.0854</td>\n",
       "    </tr>\n",
       "    <tr>\n",
       "      <th>504</th>\n",
       "      <td>71.51</td>\n",
       "      <td>32.80</td>\n",
       "      <td>0.6824</td>\n",
       "      <td>1.65</td>\n",
       "      <td>80.13</td>\n",
       "      <td>52.000</td>\n",
       "      <td>3.5991e+10</td>\n",
       "      <td>0.2898</td>\n",
       "      <td>-1.0808</td>\n",
       "      <td>-0.6522</td>\n",
       "      <td>0.5372</td>\n",
       "    </tr>\n",
       "  </tbody>\n",
       "</table>\n",
       "<p>461 rows × 11 columns</p>\n",
       "</div>"
      ],
      "text/plain": [
       "      price  price_per_earnings  dividend_yield  earnings_per_share  \\\n",
       "0    222.89               24.31          2.3329                7.92   \n",
       "1     60.24               27.76          1.1480                1.70   \n",
       "2     56.27               22.51          1.9090                0.26   \n",
       "3    108.48               19.41          2.4996                3.29   \n",
       "4    150.51               25.47          1.7145                5.44   \n",
       "..      ...                 ...             ...                 ...   \n",
       "500   70.24               30.94          1.1701                1.83   \n",
       "501   76.30               27.25          1.7971                4.07   \n",
       "502  115.53               14.32          0.7948                9.01   \n",
       "503   50.71               17.73          1.4809                2.60   \n",
       "504   71.51               32.80          0.6824                1.65   \n",
       "\n",
       "     52_week_low  52_week_high  market_cap  vector1  vector2  vector3  vector4  \n",
       "0         259.77       175.490  1.3872e+11   0.3047  -1.1492  -0.3533  -2.8370  \n",
       "1          68.39        48.925  1.0783e+10  -0.2140  -0.4369  -1.2729  -0.7849  \n",
       "2          64.60        42.280  1.0212e+11   0.1297  -1.1131  -0.6357  -1.0210  \n",
       "3         125.86        60.050  1.8139e+11   0.1802  -1.1673  -0.7491   1.0102  \n",
       "4         162.60       114.820  9.8766e+10   0.2285  -0.4749  -0.7828  -2.1630  \n",
       "..           ...           ...         ...      ...      ...      ...      ...  \n",
       "500        76.81        46.860  1.2915e+10   0.1740  -0.2190  -1.0229  -0.6488  \n",
       "501        86.93        62.850  2.7003e+10   0.2349  -1.1265  -0.5574  -0.6951  \n",
       "502       133.49       108.170  2.4455e+10  -0.0466  -1.1366  -0.7960  -1.0415  \n",
       "503        55.61        38.430  1.0671e+10  -0.6403   1.7668  -2.7968  -0.0854  \n",
       "504        80.13        52.000  3.5991e+10   0.2898  -1.0808  -0.6522   0.5372  \n",
       "\n",
       "[461 rows x 11 columns]"
      ]
     },
     "execution_count": 426,
     "metadata": {},
     "output_type": "execute_result"
    }
   ],
   "source": [
    "dataset"
   ]
  }
 ],
 "metadata": {
  "kernelspec": {
   "display_name": "Python 3",
   "language": "python",
   "name": "python3"
  },
  "language_info": {
   "codemirror_mode": {
    "name": "ipython",
    "version": 3
   },
   "file_extension": ".py",
   "mimetype": "text/x-python",
   "name": "python",
   "nbconvert_exporter": "python",
   "pygments_lexer": "ipython3",
   "version": "3.8.3"
  }
 },
 "nbformat": 4,
 "nbformat_minor": 4
}
