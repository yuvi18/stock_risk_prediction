{
 "cells": [
  {
   "cell_type": "code",
   "execution_count": 52,
   "metadata": {},
   "outputs": [],
   "source": [
    "import numpy\n",
    "from pandas import read_csv\n",
    "import pandas as pd\n",
    "from numpy import arange\n",
    "import operator\n",
    "import pandas as pd\n",
    "import numpy as np\n",
    "import operator\n",
    "import sys\n",
    "from gensim.models import Word2Vec\n",
    "from gensim.test.utils import common_texts, get_tmpfile\n",
    "from sklearn.decomposition import PCA\n",
    "from sklearn.datasets import make_classification\n",
    "from sklearn.metrics import accuracy_score, confusion_matrix\n",
    "from sklearn.ensemble import RandomForestClassifier\n",
    "from sklearn import svm, tree\n",
    "from sklearn.naive_bayes import GaussianNB\n",
    "from sklearn.model_selection import train_test_split\n",
    "from matplotlib import pyplot\n",
    "import matplotlib.patches as mpatches\n",
    "import seaborn as sns\n",
    "from gensim.models.keyedvectors import KeyedVectors\n",
    "from pandas.plotting import scatter_matrix\n",
    "from pandas import set_option\n",
    "from sklearn.preprocessing import StandardScaler\n",
    "from sklearn.model_selection import train_test_split\n",
    "from sklearn.model_selection import KFold\n",
    "import plotly\n",
    "import plotly.express as px\n",
    "from pandas import set_option\n",
    "from numpy import set_printoptions\n",
    "import matplotlib.pyplot as plt\n",
    "from sklearn.model_selection import KFold\n",
    "from sklearn.model_selection import cross_val_score\n",
    "from sklearn.model_selection import GridSearchCV\n",
    "from sklearn.linear_model import LinearRegression\n",
    "from sklearn.linear_model import Lasso\n",
    "from sklearn.linear_model import ElasticNet\n",
    "from sklearn.tree import DecisionTreeRegressor\n",
    "from sklearn.neighbors import KNeighborsRegressor\n",
    "from sklearn.svm import SVR\n",
    "from sklearn.pipeline import Pipeline\n",
    "from sklearn.ensemble import RandomForestRegressor\n",
    "from sklearn.ensemble import GradientBoostingRegressor\n",
    "from sklearn.ensemble import ExtraTreesRegressor\n",
    "from sklearn.ensemble import AdaBoostRegressor\n",
    "from sklearn.metrics import mean_squared_error\n",
    "from sklearn.metrics import mean_squared_log_error\n",
    "from sklearn.metrics import explained_variance_score\n",
    "from sklearn.metrics import r2_score\n",
    "from sklearn.model_selection import StratifiedKFold\n",
    "from sklearn.model_selection import GroupKFold\n",
    "from sklearn.model_selection import ShuffleSplit\n",
    "from sklearn.model_selection import StratifiedShuffleSplit\n",
    "import statsmodels.api as sm\n",
    "import plotly.express as px\n",
    "import matplotlib.pyplot as plt"
   ]
  },
  {
   "cell_type": "code",
   "execution_count": 53,
   "metadata": {},
   "outputs": [
    {
     "data": {
      "text/plain": [
       "505"
      ]
     },
     "execution_count": 53,
     "metadata": {},
     "output_type": "execute_result"
    }
   ],
   "source": [
    "binary_vectors = 'stock2vec_Keyed_Binary.bin'\n",
    "text_vectors = 'stock2vec_Keyed_Text.vec'\n",
    "\n",
    "model = KeyedVectors.load_word2vec_format(text_vectors, binary=False)\n",
    "word_dict = {}\n",
    "embeddings = []\n",
    "symbols = []\n",
    "for word in model.vocab:\n",
    "    word_dict[word] = model[word]\n",
    "    #embeddings.append(model2[word])\n",
    "\n",
    "for key in word_dict:\n",
    "    embeddings.append(word_dict[key])\n",
    "#embeddings\n",
    "len(word_dict)"
   ]
  },
  {
   "cell_type": "code",
   "execution_count": 54,
   "metadata": {
    "scrolled": true
   },
   "outputs": [
    {
     "name": "stderr",
     "output_type": "stream",
     "text": [
      "<ipython-input-54-5a8ad5b79ee4>:1: DeprecationWarning: Call to deprecated `wv` (Attribute will be removed in 4.0.0, use self instead).\n",
      "  weights = model.wv.vectors\n"
     ]
    },
    {
     "data": {
      "text/plain": [
       "array([[-0.14497213, -0.45860606, -1.1782019 , -1.1941084 ],\n",
       "       [ 0.7040044 , -1.1718557 , -0.2739038 ,  1.0556908 ],\n",
       "       [-0.15832463, -0.7564409 , -1.0549943 , -0.7916976 ],\n",
       "       ...,\n",
       "       [ 0.5649781 ,  0.12315261, -0.9708491 ,  0.56072503],\n",
       "       [ 0.628613  , -0.09328333, -0.77231306, -0.04612734],\n",
       "       [ 0.605424  , -0.09975752, -0.82908016,  0.04775446]],\n",
       "      dtype=float32)"
      ]
     },
     "execution_count": 54,
     "metadata": {},
     "output_type": "execute_result"
    }
   ],
   "source": [
    "weights = model.wv.vectors\n",
    "weights"
   ]
  },
  {
   "cell_type": "code",
   "execution_count": 55,
   "metadata": {},
   "outputs": [
    {
     "data": {
      "text/html": [
       "<div>\n",
       "<style scoped>\n",
       "    .dataframe tbody tr th:only-of-type {\n",
       "        vertical-align: middle;\n",
       "    }\n",
       "\n",
       "    .dataframe tbody tr th {\n",
       "        vertical-align: top;\n",
       "    }\n",
       "\n",
       "    .dataframe thead th {\n",
       "        text-align: right;\n",
       "    }\n",
       "</style>\n",
       "<table border=\"1\" class=\"dataframe\">\n",
       "  <thead>\n",
       "    <tr style=\"text-align: right;\">\n",
       "      <th></th>\n",
       "      <th>company</th>\n",
       "      <th>symbol</th>\n",
       "      <th>sector</th>\n",
       "      <th>market_cap</th>\n",
       "      <th>pe_ratio</th>\n",
       "      <th>number_of_employees</th>\n",
       "      <th>sec_filing</th>\n",
       "      <th>vector1</th>\n",
       "      <th>vector2</th>\n",
       "      <th>vector3</th>\n",
       "      <th>vector4</th>\n",
       "    </tr>\n",
       "  </thead>\n",
       "  <tbody>\n",
       "    <tr>\n",
       "      <th>0</th>\n",
       "      <td>Walmart</td>\n",
       "      <td>WMT</td>\n",
       "      <td>Retail Trade</td>\n",
       "      <td>407.63</td>\n",
       "      <td>22.9</td>\n",
       "      <td>2200000.0</td>\n",
       "      <td>reports</td>\n",
       "      <td>0.829953</td>\n",
       "      <td>-1.023615</td>\n",
       "      <td>-0.031209</td>\n",
       "      <td>-1.269893</td>\n",
       "    </tr>\n",
       "    <tr>\n",
       "      <th>1</th>\n",
       "      <td>Amazon.com Inc.</td>\n",
       "      <td>AMZN</td>\n",
       "      <td>Retail Trade</td>\n",
       "      <td>1605.05</td>\n",
       "      <td>122.1</td>\n",
       "      <td>798000.0</td>\n",
       "      <td>reports</td>\n",
       "      <td>0.091421</td>\n",
       "      <td>-1.058599</td>\n",
       "      <td>-0.839604</td>\n",
       "      <td>0.834054</td>\n",
       "    </tr>\n",
       "    <tr>\n",
       "      <th>2</th>\n",
       "      <td>Accenture plc</td>\n",
       "      <td>ACN</td>\n",
       "      <td>Technology Services</td>\n",
       "      <td>151.35</td>\n",
       "      <td>28.9</td>\n",
       "      <td>506000.0</td>\n",
       "      <td>reports</td>\n",
       "      <td>0.228507</td>\n",
       "      <td>-0.474911</td>\n",
       "      <td>-0.782801</td>\n",
       "      <td>-2.162982</td>\n",
       "    </tr>\n",
       "    <tr>\n",
       "      <th>3</th>\n",
       "      <td>United Parcel Service</td>\n",
       "      <td>UPS</td>\n",
       "      <td>Transportation</td>\n",
       "      <td>148.41</td>\n",
       "      <td>34.4</td>\n",
       "      <td>495000.0</td>\n",
       "      <td>reports</td>\n",
       "      <td>0.212781</td>\n",
       "      <td>-0.739657</td>\n",
       "      <td>-0.670442</td>\n",
       "      <td>-2.129345</td>\n",
       "    </tr>\n",
       "    <tr>\n",
       "      <th>4</th>\n",
       "      <td>Kroger Co.</td>\n",
       "      <td>KR</td>\n",
       "      <td>Retail Trade</td>\n",
       "      <td>25.37</td>\n",
       "      <td>9.9</td>\n",
       "      <td>435000.0</td>\n",
       "      <td>reports</td>\n",
       "      <td>0.849830</td>\n",
       "      <td>-0.377965</td>\n",
       "      <td>-0.452920</td>\n",
       "      <td>0.417005</td>\n",
       "    </tr>\n",
       "  </tbody>\n",
       "</table>\n",
       "</div>"
      ],
      "text/plain": [
       "                 company symbol               sector  market_cap  pe_ratio  \\\n",
       "0                Walmart    WMT         Retail Trade      407.63      22.9   \n",
       "1        Amazon.com Inc.   AMZN         Retail Trade     1605.05     122.1   \n",
       "2          Accenture plc    ACN  Technology Services      151.35      28.9   \n",
       "3  United Parcel Service    UPS       Transportation      148.41      34.4   \n",
       "4             Kroger Co.     KR         Retail Trade       25.37       9.9   \n",
       "\n",
       "   number_of_employees sec_filing   vector1   vector2   vector3   vector4  \n",
       "0            2200000.0    reports  0.829953 -1.023615 -0.031209 -1.269893  \n",
       "1             798000.0    reports  0.091421 -1.058599 -0.839604  0.834054  \n",
       "2             506000.0    reports  0.228507 -0.474911 -0.782801 -2.162982  \n",
       "3             495000.0    reports  0.212781 -0.739657 -0.670442 -2.129345  \n",
       "4             435000.0    reports  0.849830 -0.377965 -0.452920  0.417005  "
      ]
     },
     "execution_count": 55,
     "metadata": {},
     "output_type": "execute_result"
    }
   ],
   "source": [
    "employee = read_csv('../notebooks/content/employee_data.csv')\n",
    "employee.head()"
   ]
  },
  {
   "cell_type": "code",
   "execution_count": 56,
   "metadata": {
    "scrolled": true
   },
   "outputs": [
    {
     "data": {
      "text/plain": [
       "(366, 10)"
      ]
     },
     "execution_count": 56,
     "metadata": {},
     "output_type": "execute_result"
    }
   ],
   "source": [
    "columns = ['Company', 'Symbol', 'Sector', 'MarketCap', 'PERatio', 'NumberOfEmployees', 'SecFiling','Vector1', 'Vector2', 'Vector3', 'Vector4']\n",
    "employee.columns = columns\n",
    "target = employee.pop(\"NumberOfEmployees\")\n",
    "employee.shape"
   ]
  },
  {
   "cell_type": "code",
   "execution_count": 57,
   "metadata": {},
   "outputs": [],
   "source": [
    "dataset = employee[['MarketCap', 'PERatio', 'Vector1', 'Vector2', 'Vector3', 'Vector4']]"
   ]
  },
  {
   "cell_type": "code",
   "execution_count": 58,
   "metadata": {
    "scrolled": true
   },
   "outputs": [
    {
     "data": {
      "text/html": [
       "<div>\n",
       "<style scoped>\n",
       "    .dataframe tbody tr th:only-of-type {\n",
       "        vertical-align: middle;\n",
       "    }\n",
       "\n",
       "    .dataframe tbody tr th {\n",
       "        vertical-align: top;\n",
       "    }\n",
       "\n",
       "    .dataframe thead th {\n",
       "        text-align: right;\n",
       "    }\n",
       "</style>\n",
       "<table border=\"1\" class=\"dataframe\">\n",
       "  <thead>\n",
       "    <tr style=\"text-align: right;\">\n",
       "      <th></th>\n",
       "      <th>MarketCap</th>\n",
       "      <th>PERatio</th>\n",
       "      <th>Vector1</th>\n",
       "      <th>Vector2</th>\n",
       "      <th>Vector3</th>\n",
       "      <th>Vector4</th>\n",
       "    </tr>\n",
       "  </thead>\n",
       "  <tbody>\n",
       "    <tr>\n",
       "      <th>0</th>\n",
       "      <td>407.63</td>\n",
       "      <td>22.9</td>\n",
       "      <td>0.829953</td>\n",
       "      <td>-1.023615</td>\n",
       "      <td>-0.031209</td>\n",
       "      <td>-1.269893</td>\n",
       "    </tr>\n",
       "    <tr>\n",
       "      <th>1</th>\n",
       "      <td>1605.05</td>\n",
       "      <td>122.1</td>\n",
       "      <td>0.091421</td>\n",
       "      <td>-1.058599</td>\n",
       "      <td>-0.839604</td>\n",
       "      <td>0.834054</td>\n",
       "    </tr>\n",
       "    <tr>\n",
       "      <th>2</th>\n",
       "      <td>151.35</td>\n",
       "      <td>28.9</td>\n",
       "      <td>0.228507</td>\n",
       "      <td>-0.474911</td>\n",
       "      <td>-0.782801</td>\n",
       "      <td>-2.162982</td>\n",
       "    </tr>\n",
       "    <tr>\n",
       "      <th>3</th>\n",
       "      <td>148.41</td>\n",
       "      <td>34.4</td>\n",
       "      <td>0.212781</td>\n",
       "      <td>-0.739657</td>\n",
       "      <td>-0.670442</td>\n",
       "      <td>-2.129345</td>\n",
       "    </tr>\n",
       "    <tr>\n",
       "      <th>4</th>\n",
       "      <td>25.37</td>\n",
       "      <td>9.9</td>\n",
       "      <td>0.849830</td>\n",
       "      <td>-0.377965</td>\n",
       "      <td>-0.452920</td>\n",
       "      <td>0.417005</td>\n",
       "    </tr>\n",
       "  </tbody>\n",
       "</table>\n",
       "</div>"
      ],
      "text/plain": [
       "   MarketCap  PERatio   Vector1   Vector2   Vector3   Vector4\n",
       "0     407.63     22.9  0.829953 -1.023615 -0.031209 -1.269893\n",
       "1    1605.05    122.1  0.091421 -1.058599 -0.839604  0.834054\n",
       "2     151.35     28.9  0.228507 -0.474911 -0.782801 -2.162982\n",
       "3     148.41     34.4  0.212781 -0.739657 -0.670442 -2.129345\n",
       "4      25.37      9.9  0.849830 -0.377965 -0.452920  0.417005"
      ]
     },
     "execution_count": 58,
     "metadata": {},
     "output_type": "execute_result"
    }
   ],
   "source": [
    "dataset.head()"
   ]
  },
  {
   "cell_type": "code",
   "execution_count": 59,
   "metadata": {},
   "outputs": [],
   "source": [
    "# Split-out validation dataset\n",
    "array = dataset.values\n",
    "#X = array[:,0:11]\n",
    "X = array\n",
    "Y = target\n",
    "validation_size = 0.20\n",
    "seed = 7\n",
    "X_train, X_validation, Y_train, Y_validation = train_test_split(X, Y,\n",
    "test_size=validation_size, random_state=seed)"
   ]
  },
  {
   "cell_type": "code",
   "execution_count": 60,
   "metadata": {},
   "outputs": [
    {
     "name": "stdout",
     "output_type": "stream",
     "text": [
      "                            OLS Regression Results                            \n",
      "==============================================================================\n",
      "Dep. Variable:      NumberOfEmployees   R-squared:                       0.124\n",
      "Model:                            OLS   Adj. R-squared:                  0.109\n",
      "Method:                 Least Squares   F-statistic:                     8.447\n",
      "Date:                Tue, 02 Feb 2021   Prob (F-statistic):           1.38e-08\n",
      "Time:                        21:33:49   Log-Likelihood:                -4843.0\n",
      "No. Observations:                 366   AIC:                             9700.\n",
      "Df Residuals:                     359   BIC:                             9727.\n",
      "Df Model:                           6                                         \n",
      "Covariance Type:            nonrobust                                         \n",
      "==============================================================================\n",
      "                 coef    std err          t      P>|t|      [0.025      0.975]\n",
      "------------------------------------------------------------------------------\n",
      "const       2.943e+05   2.67e+05      1.101      0.271   -2.31e+05     8.2e+05\n",
      "x1           237.0795     38.374      6.178      0.000     161.613     312.546\n",
      "x2            -6.5753     64.656     -0.102      0.919    -133.728     120.577\n",
      "x3         -1.631e+05   1.65e+05     -0.988      0.324   -4.88e+05    1.62e+05\n",
      "x4          8.814e+04   9.55e+04      0.923      0.357   -9.96e+04    2.76e+05\n",
      "x5          1.822e+05   1.94e+05      0.938      0.349      -2e+05    5.64e+05\n",
      "x6          4043.7607   1.89e+04      0.214      0.831   -3.32e+04    4.13e+04\n",
      "==============================================================================\n",
      "Omnibus:                      633.299   Durbin-Watson:                   0.598\n",
      "Prob(Omnibus):                  0.000   Jarque-Bera (JB):           315535.382\n",
      "Skew:                           9.908   Prob(JB):                         0.00\n",
      "Kurtosis:                     145.472   Cond. No.                     1.11e+04\n",
      "==============================================================================\n",
      "\n",
      "Notes:\n",
      "[1] Standard Errors assume that the covariance matrix of the errors is correctly specified.\n",
      "[2] The condition number is large, 1.11e+04. This might indicate that there are\n",
      "strong multicollinearity or other numerical problems.\n"
     ]
    },
    {
     "data": {
      "image/png": "[encoded data removed]",
      "text/plain": [
       "<Figure size 720x720 with 1 Axes>"
      ]
     },
     "metadata": {
      "needs_background": "light"
     },
     "output_type": "display_data"
    }
   ],
   "source": [
    "X = sm.add_constant(X)\n",
    "model = sm.OLS(Y, X)\n",
    "results = model.fit()\n",
    "print(results.summary())\n",
    "#pred_val = results.fittedvalues.copy()\n",
    "#true_val = employee['Vector1'].values.copy()\n",
    "#residual = true_val - pred_val\n",
    "#fig, ax = plt.subplots(figsize=(6,2.5))\n",
    "#_ = ax.scatter(residual, pred_val)\n",
    "\n",
    "plt.figure(figsize=(10,10))\n",
    "plt.scatter(Y, results.fittedvalues, c='crimson')\n",
    "plt.yscale('log')\n",
    "plt.xscale('log')\n",
    "p1 = max(max(results.fittedvalues), max(Y))\n",
    "p2 = min(min(results.fittedvalues), min(Y))\n",
    "plt.plot([p1, p2], [p1, p2], 'b-')\n",
    "plt.xlabel('True Values', fontsize=15)\n",
    "plt.ylabel('Predictions', fontsize=15)\n",
    "plt.axis('equal')\n",
    "plt.show()"
   ]
  },
  {
   "cell_type": "code",
   "execution_count": 17,
   "metadata": {},
   "outputs": [
    {
     "ename": "NameError",
     "evalue": "name 'LinearRegression' is not defined",
     "output_type": "error",
     "traceback": [
      "\u001b[1;31m---------------------------------------------------------------------------\u001b[0m",
      "\u001b[1;31mNameError\u001b[0m                                 Traceback (most recent call last)",
      "\u001b[1;32m<ipython-input-17-79ea0eea0cf8>\u001b[0m in \u001b[0;36m<module>\u001b[1;34m\u001b[0m\n\u001b[1;32m----> 1\u001b[1;33m \u001b[0mmodel2\u001b[0m \u001b[1;33m=\u001b[0m \u001b[0mLinearRegression\u001b[0m\u001b[1;33m(\u001b[0m\u001b[1;33m)\u001b[0m\u001b[1;33m\u001b[0m\u001b[1;33m\u001b[0m\u001b[0m\n\u001b[0m\u001b[0;32m      2\u001b[0m \u001b[0mmodel2\u001b[0m\u001b[1;33m.\u001b[0m\u001b[0mfit\u001b[0m\u001b[1;33m(\u001b[0m\u001b[0mdataset\u001b[0m\u001b[1;33m,\u001b[0m \u001b[0mtarget\u001b[0m\u001b[1;33m)\u001b[0m\u001b[1;33m\u001b[0m\u001b[1;33m\u001b[0m\u001b[0m\n\u001b[0;32m      3\u001b[0m \u001b[1;33m\u001b[0m\u001b[0m\n\u001b[0;32m      4\u001b[0m \u001b[0mvalidation_size\u001b[0m \u001b[1;33m=\u001b[0m \u001b[1;36m0.20\u001b[0m\u001b[1;33m\u001b[0m\u001b[1;33m\u001b[0m\u001b[0m\n\u001b[0;32m      5\u001b[0m \u001b[0mseed\u001b[0m \u001b[1;33m=\u001b[0m \u001b[1;36m7\u001b[0m\u001b[1;33m\u001b[0m\u001b[1;33m\u001b[0m\u001b[0m\n",
      "\u001b[1;31mNameError\u001b[0m: name 'LinearRegression' is not defined"
     ]
    }
   ],
   "source": [
    "model2 = LinearRegression()\n",
    "model2.fit(dataset, target)\n",
    "\n",
    "validation_size = 0.20\n",
    "seed = 7\n",
    "X_train, X_validation, Y_train, Y_validation = train_test_split(dataset, Y,\n",
    "test_size=validation_size, random_state=seed)\n",
    "import rfpimp\n",
    "imp = rfpimp.importances(model2, X_validation, Y_validation)\n",
    "imp"
   ]
  },
  {
   "cell_type": "code",
   "execution_count": 18,
   "metadata": {},
   "outputs": [
    {
     "ename": "ModuleNotFoundError",
     "evalue": "No module named 'plotly'",
     "output_type": "error",
     "traceback": [
      "\u001b[1;31m---------------------------------------------------------------------------\u001b[0m",
      "\u001b[1;31mModuleNotFoundError\u001b[0m                       Traceback (most recent call last)",
      "\u001b[1;32m<ipython-input-18-b31079ff17fc>\u001b[0m in \u001b[0;36m<module>\u001b[1;34m\u001b[0m\n\u001b[1;32m----> 1\u001b[1;33m \u001b[1;32mimport\u001b[0m \u001b[0mplotly\u001b[0m\u001b[1;33m.\u001b[0m\u001b[0mexpress\u001b[0m \u001b[1;32mas\u001b[0m \u001b[0mpx\u001b[0m\u001b[1;33m\u001b[0m\u001b[1;33m\u001b[0m\u001b[0m\n\u001b[0m\u001b[0;32m      2\u001b[0m fig = px.bar(imp, title=\"Permutation Feature Importance\",\n\u001b[0;32m      3\u001b[0m             labels={\"x\": \"Number of Components\", \"y\": \"Cumulative Explained Variance\"})\n\u001b[0;32m      4\u001b[0m \u001b[0mfig\u001b[0m\u001b[1;33m.\u001b[0m\u001b[0mupdate_traces\u001b[0m\u001b[1;33m(\u001b[0m\u001b[0mshowlegend\u001b[0m\u001b[1;33m=\u001b[0m\u001b[1;32mFalse\u001b[0m\u001b[1;33m,\u001b[0m \u001b[0mselector\u001b[0m\u001b[1;33m=\u001b[0m\u001b[0mdict\u001b[0m\u001b[1;33m(\u001b[0m\u001b[0mtype\u001b[0m\u001b[1;33m=\u001b[0m\u001b[1;34m'bar'\u001b[0m\u001b[1;33m)\u001b[0m\u001b[1;33m)\u001b[0m\u001b[1;33m\u001b[0m\u001b[1;33m\u001b[0m\u001b[0m\n\u001b[0;32m      5\u001b[0m \u001b[0mfig\u001b[0m\u001b[1;33m.\u001b[0m\u001b[0mupdate_xaxes\u001b[0m\u001b[1;33m(\u001b[0m\u001b[0mtitle_font\u001b[0m\u001b[1;33m=\u001b[0m\u001b[0mdict\u001b[0m\u001b[1;33m(\u001b[0m\u001b[0msize\u001b[0m\u001b[1;33m=\u001b[0m\u001b[1;36m18\u001b[0m\u001b[1;33m,\u001b[0m \u001b[0mfamily\u001b[0m\u001b[1;33m=\u001b[0m\u001b[1;34m'Courier'\u001b[0m\u001b[1;33m,\u001b[0m \u001b[0mcolor\u001b[0m\u001b[1;33m=\u001b[0m\u001b[1;34m'black'\u001b[0m\u001b[1;33m)\u001b[0m\u001b[1;33m,\u001b[0m\u001b[0mshowgrid\u001b[0m\u001b[1;33m=\u001b[0m\u001b[1;32mFalse\u001b[0m\u001b[1;33m)\u001b[0m\u001b[1;33m\u001b[0m\u001b[1;33m\u001b[0m\u001b[0m\n",
      "\u001b[1;31mModuleNotFoundError\u001b[0m: No module named 'plotly'"
     ]
    }
   ],
   "source": [
    "import plotly.express as px\n",
    "fig = px.bar(imp, title=\"Permutation Feature Importance\",\n",
    "            labels={\"x\": \"Number of Components\", \"y\": \"Cumulative Explained Variance\"})\n",
    "fig.update_traces(showlegend=False, selector=dict(type='bar'))\n",
    "fig.update_xaxes(title_font=dict(size=18, family='Courier', color='black'),showgrid=False)\n",
    "fig.update_yaxes(title_font=dict(size=18, family='Courier', color='black'),showgrid=False)\n",
    "fig.update_layout( title={'text':\"Permutation Feature Importance\",\n",
    "                         'y':0.85,\n",
    "                         'yanchor': 'top',\n",
    "                         'x':0.5,\n",
    "                         'xanchor': 'center'})\n",
    "fig.update_layout({'plot_bgcolor': 'rgba(0,0,0,0)',\n",
    "                           'paper_bgcolor': 'rgba(0,0,0,0)'\n",
    "                  })\n",
    "fig.update_layout(\n",
    "    xaxis_title=\"Employee Features\",\n",
    "    yaxis_title=\"Importance Score\",\n",
    "    legend_title=\"Legend Title\",\n",
    "    font=dict(\n",
    "        family=\"Time New\",\n",
    "        size=16,\n",
    "        color=\"black\"\n",
    "    )\n",
    ")\n",
    "\n",
    "fig.show()"
   ]
  },
  {
   "cell_type": "code",
   "execution_count": 19,
   "metadata": {},
   "outputs": [
    {
     "ename": "NameError",
     "evalue": "name 'plt' is not defined",
     "output_type": "error",
     "traceback": [
      "\u001b[1;31m---------------------------------------------------------------------------\u001b[0m",
      "\u001b[1;31mNameError\u001b[0m                                 Traceback (most recent call last)",
      "\u001b[1;32m<ipython-input-19-75bb5fbe7b5e>\u001b[0m in \u001b[0;36m<module>\u001b[1;34m\u001b[0m\n\u001b[1;32m----> 1\u001b[1;33m \u001b[0mplt\u001b[0m\u001b[1;33m.\u001b[0m\u001b[0mstyle\u001b[0m\u001b[1;33m.\u001b[0m\u001b[0muse\u001b[0m\u001b[1;33m(\u001b[0m\u001b[1;34m'default'\u001b[0m\u001b[1;33m)\u001b[0m\u001b[1;33m\u001b[0m\u001b[1;33m\u001b[0m\u001b[0m\n\u001b[0m\u001b[0;32m      2\u001b[0m \u001b[0mplt\u001b[0m\u001b[1;33m.\u001b[0m\u001b[0mstyle\u001b[0m\u001b[1;33m.\u001b[0m\u001b[0muse\u001b[0m\u001b[1;33m(\u001b[0m\u001b[1;34m'ggplot'\u001b[0m\u001b[1;33m)\u001b[0m\u001b[1;33m\u001b[0m\u001b[1;33m\u001b[0m\u001b[0m\n\u001b[0;32m      3\u001b[0m \u001b[1;33m\u001b[0m\u001b[0m\n\u001b[0;32m      4\u001b[0m \u001b[0mfig\u001b[0m\u001b[1;33m,\u001b[0m \u001b[0maxes\u001b[0m \u001b[1;33m=\u001b[0m \u001b[0mplt\u001b[0m\u001b[1;33m.\u001b[0m\u001b[0msubplots\u001b[0m\u001b[1;33m(\u001b[0m\u001b[1;36m1\u001b[0m\u001b[1;33m,\u001b[0m \u001b[1;36m2\u001b[0m\u001b[1;33m,\u001b[0m \u001b[0mfigsize\u001b[0m\u001b[1;33m=\u001b[0m\u001b[1;33m(\u001b[0m\u001b[1;36m10\u001b[0m\u001b[1;33m,\u001b[0m \u001b[1;36m4\u001b[0m\u001b[1;33m)\u001b[0m\u001b[1;33m)\u001b[0m\u001b[1;33m\u001b[0m\u001b[1;33m\u001b[0m\u001b[0m\n\u001b[0;32m      5\u001b[0m \u001b[0mfig\u001b[0m\u001b[1;33m.\u001b[0m\u001b[0msuptitle\u001b[0m\u001b[1;33m(\u001b[0m\u001b[1;34m'Effect of Stock2vec vectors'\u001b[0m\u001b[1;33m,\u001b[0m \u001b[0mfontsize\u001b[0m\u001b[1;33m=\u001b[0m\u001b[1;36m15\u001b[0m\u001b[1;33m)\u001b[0m\u001b[1;33m\u001b[0m\u001b[1;33m\u001b[0m\u001b[0m\n",
      "\u001b[1;31mNameError\u001b[0m: name 'plt' is not defined"
     ]
    }
   ],
   "source": [
    "plt.style.use('default')\n",
    "plt.style.use('ggplot')\n",
    "\n",
    "fig, axes = plt.subplots(1, 2, figsize=(10, 4))\n",
    "fig.suptitle('Effect of Stock2vec vectors', fontsize=15)\n",
    "\n",
    "axes[0].plot(x_pred, response_1, color='k', label='Regression model')\n",
    "axes[0].scatter(X2, Y2, edgecolor='k', facecolor='red', alpha=0.7, label='ESG data')\n",
    "axes[0].set_ylabel('ESG rating', fontsize=14)\n",
    "axes[0].set_xlabel('Vector1', fontsize=14)\n",
    "axes[0].legend(facecolor='white', fontsize=11, loc='best')\n",
    "axes[0].set_ylim(0, 60)\n",
    "axes[0].set_xlim(0, 4)\n",
    "axes[0].text(0.47, 0.15, '$y = %.1f x_1 + %.1f $' % (model_1.coef_[0], model_1.intercept_),\n",
    "             fontsize=12, transform=axes[0].transAxes)\n",
    "axes[0].text(0.77, 0.3, '', fontsize=10, ha='center', va='center',\n",
    "         transform=axes[0].transAxes, color='red', alpha=0.5)\n",
    "\n",
    "axes[1].plot(x_pred3, response_2, color='k', label='Regression model')\n",
    "axes[1].scatter(X3, Y2, edgecolor='k', facecolor='red', alpha=0.7, label='ESG Data')\n",
    "axes[1].set_ylabel('ESG rating', fontsize=14)\n",
    "axes[1].set_xlabel('Earnings per share', fontsize=14)\n",
    "axes[1].legend(facecolor='white', fontsize=11, loc='best')\n",
    "axes[1].set_ylim(0, 60)\n",
    "axes[1].set_xlim(0, 20)\n",
    "axes[1].text(0.55, 0.15, '$y = %.1f x_1 + %.1f $' % (model_2.coef_[0], model_2.intercept_),\n",
    "             fontsize=12, transform=axes[1].transAxes)\n",
    "axes[1].text(0.77, 0.3, '', fontsize=10, ha='center', va='center',\n",
    "         transform=axes[1].transAxes, color='red', alpha=0.5)\n",
    "\n",
    "fig.tight_layout(rect=[0, 0, 1, 0.94])"
   ]
  },
  {
   "cell_type": "code",
   "execution_count": null,
   "metadata": {},
   "outputs": [],
   "source": []
  },
  {
   "cell_type": "code",
   "execution_count": null,
   "metadata": {},
   "outputs": [],
   "source": []
  },
  {
   "cell_type": "code",
   "execution_count": null,
   "metadata": {},
   "outputs": [],
   "source": []
  }
 ],
 "metadata": {
  "kernelspec": {
   "display_name": "Python 3",
   "language": "python",
   "name": "python3"
  },
  "language_info": {
   "codemirror_mode": {
    "name": "ipython",
    "version": 3
   },
   "file_extension": ".py",
   "mimetype": "text/x-python",
   "name": "python",
   "nbconvert_exporter": "python",
   "pygments_lexer": "ipython3",
   "version": "3.8.5"
  }
 },
 "nbformat": 4,
 "nbformat_minor": 4
}
