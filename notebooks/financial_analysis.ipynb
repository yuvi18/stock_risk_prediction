{
 "cells": [
  {
   "cell_type": "markdown",
   "metadata": {},
   "source": [
    "# Import Libraries"
   ]
  },
  {
   "cell_type": "code",
   "execution_count": 2,
   "metadata": {},
   "outputs": [],
   "source": [
    "import pandas as pd\n",
    "import numpy as np\n",
    "import operator\n",
    "import sys\n",
    "from gensim.models import Word2Vec\n",
    "from gensim.models.keyedvectors import KeyedVectors\n",
    "from sklearn.decomposition import PCA\n",
    "from sklearn.datasets import make_classification\n",
    "from sklearn.metrics import accuracy_score, confusion_matrix\n",
    "from sklearn.ensemble import RandomForestClassifier\n",
    "from sklearn import svm, tree\n",
    "from sklearn.naive_bayes import GaussianNB\n",
    "from sklearn.model_selection import train_test_split\n",
    "from matplotlib import pyplot\n",
    "import matplotlib.patches as mpatches\n",
    "import seaborn as sns\n",
    "import plotly\n",
    "import plotly.express as px\n",
    "import glob"
   ]
  },
  {
   "cell_type": "markdown",
   "metadata": {},
   "source": [
    "# Load vectors from disk"
   ]
  },
  {
   "cell_type": "code",
   "execution_count": 3,
   "metadata": {},
   "outputs": [
    {
     "data": {
      "text/plain": [
       "505"
      ]
     },
     "execution_count": 3,
     "metadata": {},
     "output_type": "execute_result"
    }
   ],
   "source": [
    "binary_vectors = 'stoack2vec_Keyed_Binary.bin'\n",
    "text_vectors = 'stoack2vec_Keyed_Text.vec'\n",
    "\n",
    "model = KeyedVectors.load_word2vec_format(text_vectors, binary=False)\n",
    "word_dict = {}\n",
    "embeddings = []\n",
    "symbols = []\n",
    "for word in model.vocab:\n",
    "    word_dict[word] = model[word]\n",
    "    #embeddings.append(model2[word])\n",
    "\n",
    "for key in word_dict:\n",
    "    embeddings.append(word_dict[key])\n",
    "#embeddings\n",
    "len(word_dict)"
   ]
  },
  {
   "cell_type": "markdown",
   "metadata": {},
   "source": [
    "# Load all financial files\n"
   ]
  },
  {
   "cell_type": "code",
   "execution_count": null,
   "metadata": {},
   "outputs": [],
   "source": []
  },
  {
   "cell_type": "code",
   "execution_count": 6,
   "metadata": {},
   "outputs": [],
   "source": [
    "path = r'../notebooks/content/financials'                     # use your path\n",
    "all_files = glob.glob(os.path.join(path, \"*.csv\"))     # advisable to use os.path.join as this makes concatenation OS independent\n",
    "\n",
    "df_from_each_file = (pd.read_csv(f) for f in all_files)\n",
    "financial_df  = pd.concat(df_from_each_file, ignore_index=True)"
   ]
  },
  {
   "cell_type": "code",
   "execution_count": 9,
   "metadata": {},
   "outputs": [
    {
     "data": {
      "text/plain": [
       "(22077, 229)"
      ]
     },
     "execution_count": 9,
     "metadata": {},
     "output_type": "execute_result"
    }
   ],
   "source": [
    "financial_df.shape"
   ]
  },
  {
   "cell_type": "code",
   "execution_count": 12,
   "metadata": {},
   "outputs": [
    {
     "name": "stdout",
     "output_type": "stream",
     "text": [
      "  Symbol       Revenue  Revenue Growth  Cost of Revenue  Gross Profit  \\\n",
      "0  CMCSA  9.450700e+10          0.1115     0.000000e+00  9.450700e+10   \n",
      "1    KMI  1.414400e+10          0.0320     7.288000e+09  6.856000e+09   \n",
      "2   INTC  7.084800e+10          0.1289     2.711100e+10  4.373700e+10   \n",
      "3     MU  3.039100e+10          0.4955     1.250000e+10  1.789100e+10   \n",
      "4     GE  1.216150e+11          0.0285     9.546100e+10  2.615400e+10   \n",
      "\n",
      "   R&D Expenses  SG&A Expense  Operating Expenses  Operating Income  \\\n",
      "0  0.000000e+00  6.482200e+10        7.549800e+10      1.900900e+10   \n",
      "1  0.000000e+00  6.010000e+08        3.062000e+09      3.794000e+09   \n",
      "2  1.354300e+10  6.750000e+09        2.042100e+10      2.331600e+10   \n",
      "3  2.141000e+09  8.130000e+08        2.897000e+09      1.499400e+10   \n",
      "4  0.000000e+00  1.811100e+10        4.071100e+10     -1.455700e+10   \n",
      "\n",
      "   Interest Expense  ...  Debt Growth  R&D Expense Growth  \\\n",
      "0      3.542000e+09  ...       0.7309              0.0000   \n",
      "1      1.917000e+09  ...      -0.0137              0.0000   \n",
      "2     -1.260000e+08  ...      -0.0169              0.0390   \n",
      "3      3.420000e+08  ...      -0.5841              0.1738   \n",
      "4      5.059000e+09  ...      -0.2297              0.0000   \n",
      "\n",
      "   SG&A Expenses Growth             Sector  2019 PRICE VAR [%]  Class  \\\n",
      "0                0.1308  Consumer Cyclical           32.794573      1   \n",
      "1               -0.1265             Energy           40.588068      1   \n",
      "2               -0.0942         Technology           30.295514      1   \n",
      "3                0.0942         Technology           64.213737      1   \n",
      "4                0.0308        Industrials           44.757840      1   \n",
      "\n",
      "   2016 PRICE VAR [%]  2017 PRICE VAR [%]  2018 PRICE VAR [%]  \\\n",
      "0                 NaN                 NaN                 NaN   \n",
      "1                 NaN                 NaN                 NaN   \n",
      "2                 NaN                 NaN                 NaN   \n",
      "3                 NaN                 NaN                 NaN   \n",
      "4                 NaN                 NaN                 NaN   \n",
      "\n",
      "   2015 PRICE VAR [%]  \n",
      "0                 NaN  \n",
      "1                 NaN  \n",
      "2                 NaN  \n",
      "3                 NaN  \n",
      "4                 NaN  \n",
      "\n",
      "[5 rows x 229 columns]\n"
     ]
    }
   ],
   "source": [
    "print(financial_df.head())"
   ]
  },
  {
   "cell_type": "markdown",
   "metadata": {},
   "source": [
    "# Univariate Histograms"
   ]
  },
  {
   "cell_type": "code",
   "execution_count": 14,
   "metadata": {},
   "outputs": [
    {
     "name": "stdout",
     "output_type": "stream",
     "text": [
      "Symbol                 object\n",
      "Revenue               float64\n",
      "Revenue Growth        float64\n",
      "Cost of Revenue       float64\n",
      "Gross Profit          float64\n",
      "                       ...   \n",
      "Class                   int64\n",
      "2016 PRICE VAR [%]    float64\n",
      "2017 PRICE VAR [%]    float64\n",
      "2018 PRICE VAR [%]    float64\n",
      "2015 PRICE VAR [%]    float64\n",
      "Length: 229, dtype: object\n"
     ]
    }
   ],
   "source": [
    "print(financial_df.dtypes)"
   ]
  },
  {
   "cell_type": "code",
   "execution_count": 16,
   "metadata": {},
   "outputs": [
    {
     "data": {
      "text/plain": [
       "(22077, 229)"
      ]
     },
     "execution_count": 16,
     "metadata": {},
     "output_type": "execute_result"
    }
   ],
   "source": [
    "financial_df.shape"
   ]
  },
  {
   "cell_type": "code",
   "execution_count": 38,
   "metadata": {},
   "outputs": [
    {
     "name": "stdout",
     "output_type": "stream",
     "text": [
      "(3808, 225)\n"
     ]
    }
   ],
   "source": [
    "stocks_df = pd.read_csv('../notebooks/content/financials/2014_Financial_Data.csv')#, parse_dates=['date'])\n",
    "print(stocks_df.shape)"
   ]
  },
  {
   "cell_type": "code",
   "execution_count": null,
   "metadata": {},
   "outputs": [],
   "source": []
  },
  {
   "cell_type": "code",
   "execution_count": null,
   "metadata": {},
   "outputs": [],
   "source": []
  },
  {
   "cell_type": "code",
   "execution_count": 17,
   "metadata": {},
   "outputs": [
    {
     "ename": "NameError",
     "evalue": "name 'read_csv' is not defined",
     "output_type": "error",
     "traceback": [
      "\u001b[0;31m---------------------------------------------------------------------------\u001b[0m",
      "\u001b[0;31mNameError\u001b[0m                                 Traceback (most recent call last)",
      "\u001b[0;32m<ipython-input-17-a0b2e1da6e39>\u001b[0m in \u001b[0;36m<module>\u001b[0;34m\u001b[0m\n\u001b[0;32m----> 1\u001b[0;31m \u001b[0memissions\u001b[0m \u001b[0;34m=\u001b[0m \u001b[0mread_csv\u001b[0m\u001b[0;34m(\u001b[0m\u001b[0;34m'../notebooks/content/emmissions.csv'\u001b[0m\u001b[0;34m)\u001b[0m\u001b[0;34m\u001b[0m\u001b[0;34m\u001b[0m\u001b[0m\n\u001b[0m\u001b[1;32m      2\u001b[0m \u001b[0memissions\u001b[0m\u001b[0;34m.\u001b[0m\u001b[0mhead\u001b[0m\u001b[0;34m(\u001b[0m\u001b[0;34m)\u001b[0m\u001b[0;34m\u001b[0m\u001b[0;34m\u001b[0m\u001b[0m\n",
      "\u001b[0;31mNameError\u001b[0m: name 'read_csv' is not defined"
     ]
    }
   ],
   "source": [
    "emissions = read_csv('../notebooks/content/emmissions.csv')\n",
    "emissions.head()"
   ]
  }
 ],
 "metadata": {
  "kernelspec": {
   "display_name": "Python 3",
   "language": "python",
   "name": "python3"
  },
  "language_info": {
   "codemirror_mode": {
    "name": "ipython",
    "version": 3
   },
   "file_extension": ".py",
   "mimetype": "text/x-python",
   "name": "python",
   "nbconvert_exporter": "python",
   "pygments_lexer": "ipython3",
   "version": "3.8.3"
  }
 },
 "nbformat": 4,
 "nbformat_minor": 4
}
